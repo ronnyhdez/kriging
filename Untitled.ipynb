{
 "cells": [
  {
   "cell_type": "code",
   "execution_count": 1,
   "id": "b9551e79-f38e-4d2d-837f-1c19185a655b",
   "metadata": {},
   "outputs": [],
   "source": [
    "import os, sys\n",
    "import pygeostat as gs\n",
    "import matplotlib.pyplot as plt\n",
    "\n",
    "exe_dir=\"../pygeostat/executable/\""
   ]
  },
  {
   "cell_type": "code",
   "execution_count": 2,
   "id": "476d860b-6ce5-46e5-bf48-922c6bfa0fa0",
   "metadata": {},
   "outputs": [
    {
     "name": "stdout",
     "output_type": "stream",
     "text": [
      "Hello World!\n",
      "Math is easy and works as expected\n",
      "a = 1 b = 2\n",
      "a + b = 3\n",
      "a/b+0.2 = 0.7\n",
      "Note the 4 spaces for block statements like if and loops\n",
      "Loops can use a list, or a range among other things!\n",
      "1\n",
      "2\n",
      "10\n",
      "Note that everything starts from 0 in python unlike Fortran\n",
      "0\n",
      "1\n",
      "2\n",
      "Lots of helpful options are built in such as string splitting: ['Hello', 'World!']\n"
     ]
    }
   ],
   "source": [
    "print('Hello World!')\n",
    "\n",
    "print('Math is easy and works as expected')\n",
    "a = 1\n",
    "b = 2\n",
    "print('a =',a,'b =',b)\n",
    "print('a + b =',a+b)\n",
    "print('a/b+0.2 =',a/b+0.2)\n",
    "\n",
    "if (1>2):\n",
    "    print('This statement is unreachable')\n",
    "else:\n",
    "    print('Note the 4 spaces for block statements like if and loops')\n",
    "\n",
    "print('Loops can use a list, or a range among other things!')\n",
    "for i in [1,2,10]:\n",
    "    print(i)\n",
    "\n",
    "print('Note that everything starts from 0 in python unlike Fortran')\n",
    "for i in range(3):\n",
    "    print(i)\n",
    "\n",
    "\n",
    "mystr = 'Hello World!'\n",
    "print('Lots of helpful options are built in such as string splitting:',mystr.split())"
   ]
  },
  {
   "cell_type": "code",
   "execution_count": 3,
   "id": "a6f27d53-72f6-48ba-b13a-60d277964dce",
   "metadata": {},
   "outputs": [
    {
     "name": "stdout",
     "output_type": "stream",
     "text": [
      "c = 2.561, d = 10.2\n",
      "c = 2.6, d = 1.02e+01\n"
     ]
    }
   ],
   "source": [
    "c, d = 2.561, 10.2\n",
    "print('c = {}, d = {}'.format(c, d))\n",
    "print('c = {:.1f}, d = {:.2e}'.format(c, d))"
   ]
  },
  {
   "cell_type": "code",
   "execution_count": 4,
   "id": "cfd79c07-b073-4065-8ea0-53ddc28884fb",
   "metadata": {},
   "outputs": [
    {
     "name": "stdout",
     "output_type": "stream",
     "text": [
      "data.catdict:\n",
      "When initializing a DataFile, this dictionary will be used as DataFile.catdict (if catdict.keys() matches DataFile.cat codes). This dictionary is formaatted as {catcodes: catnames}.\n"
     ]
    }
   ],
   "source": [
    "# Setting the cat dictionary\n",
    "gs.Parameters['data.catdict'] = {1: 'Inside', 0: 'Outside'}\n",
    "gs.Parameters.describe('data.catdict')"
   ]
  },
  {
   "cell_type": "code",
   "execution_count": 5,
   "id": "962149c6-a28c-404a-843a-f55530d76d14",
   "metadata": {},
   "outputs": [
    {
     "data": {
      "text/plain": [
       "Parameters({'config.autoload.parameters': True,\n",
       "            'config.autoload.plot_style': False,\n",
       "            'config.getpar': False,\n",
       "            'config.ignore_mpl_warnings': True,\n",
       "            'config.nprocess': 4,\n",
       "            'config.use_shipped_executable': True,\n",
       "            'config.verbose': True,\n",
       "            'data.cat': None,\n",
       "            'data.catdict': {0: 'Outside', 1: 'Inside'},\n",
       "            'data.dh': None,\n",
       "            'data.fix_legacy_null': False,\n",
       "            'data.griddef': None,\n",
       "            'data.ifrom': None,\n",
       "            'data.io.pandas_engine': 'python',\n",
       "            'data.ito': None,\n",
       "            'data.legacy_null': [-999, -998, -99, -98],\n",
       "            'data.nreal': None,\n",
       "            'data.null': -999.0,\n",
       "            'data.null_vtk': 0.0,\n",
       "            'data.tmin': -998.0,\n",
       "            'data.weights': None,\n",
       "            'data.write.python_floatfmt': '%.6f',\n",
       "            'data.write_vtk.cdtype': 'float64',\n",
       "            'data.write_vtk.vdtype': 'float64',\n",
       "            'data.x': None,\n",
       "            'data.y': None,\n",
       "            'data.z': None,\n",
       "            'plotting.assumecat': 11,\n",
       "            'plotting.axis_xy': False,\n",
       "            'plotting.axis_xy_spatial': False,\n",
       "            'plotting.cmap': 'viridis',\n",
       "            'plotting.cmap_cat': 'tab20',\n",
       "            'plotting.gammasize': 3.0,\n",
       "            'plotting.grid': False,\n",
       "            'plotting.histogram_plot.cdfcolor': '.5',\n",
       "            'plotting.histogram_plot.edgecolor': 'k',\n",
       "            'plotting.histogram_plot.edgeweight': None,\n",
       "            'plotting.histogram_plot.facecolor': '.9',\n",
       "            'plotting.histogram_plot.histbins': 15,\n",
       "            'plotting.histogram_plot.stat_blk': 'all',\n",
       "            'plotting.histogram_plot.stat_xy': [0.95, 0.95],\n",
       "            'plotting.histogram_plot.stat_xy_cdf': [0.95, 0.05],\n",
       "            'plotting.histogram_plot_simulation.alpha': 0.5,\n",
       "            'plotting.histogram_plot_simulation.refclr': 'C3',\n",
       "            'plotting.histogram_plot_simulation.simclr': '0.2',\n",
       "            'plotting.lagname': 'Lag Distance',\n",
       "            'plotting.location_plot.c': '.4',\n",
       "            'plotting.location_plot.lw': 5.0,\n",
       "            'plotting.location_plot.s': 20.0,\n",
       "            'plotting.log_lowerval': 0.0001,\n",
       "            'plotting.nticks': None,\n",
       "            'plotting.rotateticks': [0, 0],\n",
       "            'plotting.roundstats': True,\n",
       "            'plotting.scatter_plot.alpha': 1.0,\n",
       "            'plotting.scatter_plot.c': 'kde',\n",
       "            'plotting.scatter_plot.cmap': 'viridis',\n",
       "            'plotting.scatter_plot.s': None,\n",
       "            'plotting.scatter_plot.stat_blk': 'pearson',\n",
       "            'plotting.scatter_plot.stat_xy': [0.95, 0.05],\n",
       "            'plotting.sigfigs': 2,\n",
       "            'plotting.stat_fontsize': None,\n",
       "            'plotting.stat_ha': 'right',\n",
       "            'plotting.stat_linespacing': 1.0,\n",
       "            'plotting.unit': 'm',\n",
       "            'plotting.variogram_plot.color': '.5',\n",
       "            'plotting.variogram_plot.ms': 6.0,\n",
       "            'plotting.variogram_plot_simulation.alpha': 0.5,\n",
       "            'plotting.variogram_plot_simulation.refclr': 'C3',\n",
       "            'plotting.variogram_plot_simulation.simclr': '0.2',\n",
       "            'plotting.vplot.colors': ['C0', 'C1', 'C2'],\n",
       "            'plotting.xabbrev': 'E',\n",
       "            'plotting.xname': 'Easting',\n",
       "            'plotting.yabbrev': 'N',\n",
       "            'plotting.yname': 'Northing',\n",
       "            'plotting.zabbrev': 'Elev',\n",
       "            'plotting.zname': 'Elevation'})"
      ]
     },
     "execution_count": 5,
     "metadata": {},
     "output_type": "execute_result"
    }
   ],
   "source": [
    "gs.Parameters"
   ]
  },
  {
   "cell_type": "code",
   "execution_count": 6,
   "id": "8bfde70a-7883-4264-b9f4-eb3878dd3c1c",
   "metadata": {},
   "outputs": [
    {
     "name": "stdout",
     "output_type": "stream",
     "text": [
      "120 5.0 10.0 \n",
      "110 1205.0 10.0 \n",
      "1 0.5 1.0\n",
      "data.griddef:\n",
      "When initializing a DataFile, this will be used as DataFile.GridDef if GridDef.count() matches DataFile.shape[0]. A pygeostat.GridDef object or valid gridstr/gridarr may be used for intitialization.\n"
     ]
    }
   ],
   "source": [
    "gs.Parameters['data.griddef'] = gs.GridDef('''\n",
    "120 5.0 10.0 \n",
    "110 1205.0 10.0 \n",
    "1 0.5 1.0''')\n",
    "print(gs.Parameters['data.griddef'])\n",
    "gs.Parameters.describe('data.griddef')"
   ]
  },
  {
   "cell_type": "code",
   "execution_count": 7,
   "id": "3fb66737-f9a9-4275-8544-0089f0767214",
   "metadata": {},
   "outputs": [],
   "source": [
    "# Default plot settings\n",
    "gs.PlotStyle['font.size'] = 12\n",
    "gs.PlotStyle['figure.figsize'] = (10, 10)"
   ]
  },
  {
   "cell_type": "code",
   "execution_count": 8,
   "id": "bc897ccf-df3a-4fc0-a261-7cae140e01ac",
   "metadata": {},
   "outputs": [
    {
     "data": {
      "text/html": [
       "<div>\n",
       "<style scoped>\n",
       "    .dataframe tbody tr th:only-of-type {\n",
       "        vertical-align: middle;\n",
       "    }\n",
       "\n",
       "    .dataframe tbody tr th {\n",
       "        vertical-align: top;\n",
       "    }\n",
       "\n",
       "    .dataframe thead th {\n",
       "        text-align: right;\n",
       "    }\n",
       "</style>\n",
       "<table border=\"1\" class=\"dataframe\">\n",
       "  <thead>\n",
       "    <tr style=\"text-align: right;\">\n",
       "      <th></th>\n",
       "      <th>Drillhole Number</th>\n",
       "      <th>East</th>\n",
       "      <th>North</th>\n",
       "      <th>Elevation</th>\n",
       "      <th>Bitumen</th>\n",
       "      <th>Fines</th>\n",
       "      <th>Chlorides</th>\n",
       "      <th>Facies Code</th>\n",
       "    </tr>\n",
       "  </thead>\n",
       "  <tbody>\n",
       "    <tr>\n",
       "      <th>0</th>\n",
       "      <td>2.0</td>\n",
       "      <td>1245.0</td>\n",
       "      <td>10687.09</td>\n",
       "      <td>257.5</td>\n",
       "      <td>7.378</td>\n",
       "      <td>28.784</td>\n",
       "      <td>-9.0</td>\n",
       "      <td>-9.0</td>\n",
       "    </tr>\n",
       "    <tr>\n",
       "      <th>1</th>\n",
       "      <td>2.0</td>\n",
       "      <td>1245.0</td>\n",
       "      <td>10687.09</td>\n",
       "      <td>254.5</td>\n",
       "      <td>9.176</td>\n",
       "      <td>22.897</td>\n",
       "      <td>-9.0</td>\n",
       "      <td>-9.0</td>\n",
       "    </tr>\n",
       "    <tr>\n",
       "      <th>2</th>\n",
       "      <td>2.0</td>\n",
       "      <td>1245.0</td>\n",
       "      <td>10687.09</td>\n",
       "      <td>251.5</td>\n",
       "      <td>11.543</td>\n",
       "      <td>15.144</td>\n",
       "      <td>-9.0</td>\n",
       "      <td>-9.0</td>\n",
       "    </tr>\n",
       "    <tr>\n",
       "      <th>3</th>\n",
       "      <td>2.0</td>\n",
       "      <td>1245.0</td>\n",
       "      <td>10687.09</td>\n",
       "      <td>248.5</td>\n",
       "      <td>6.808</td>\n",
       "      <td>30.598</td>\n",
       "      <td>-9.0</td>\n",
       "      <td>-9.0</td>\n",
       "    </tr>\n",
       "    <tr>\n",
       "      <th>4</th>\n",
       "      <td>2.0</td>\n",
       "      <td>1245.0</td>\n",
       "      <td>10687.09</td>\n",
       "      <td>245.5</td>\n",
       "      <td>10.657</td>\n",
       "      <td>18.011</td>\n",
       "      <td>-9.0</td>\n",
       "      <td>-9.0</td>\n",
       "    </tr>\n",
       "  </tbody>\n",
       "</table>\n",
       "</div>"
      ],
      "text/plain": [
       "   Drillhole Number    East     North  Elevation  Bitumen   Fines  Chlorides  \\\n",
       "0               2.0  1245.0  10687.09      257.5    7.378  28.784       -9.0   \n",
       "1               2.0  1245.0  10687.09      254.5    9.176  22.897       -9.0   \n",
       "2               2.0  1245.0  10687.09      251.5   11.543  15.144       -9.0   \n",
       "3               2.0  1245.0  10687.09      248.5    6.808  30.598       -9.0   \n",
       "4               2.0  1245.0  10687.09      245.5   10.657  18.011       -9.0   \n",
       "\n",
       "   Facies Code  \n",
       "0         -9.0  \n",
       "1         -9.0  \n",
       "2         -9.0  \n",
       "3         -9.0  \n",
       "4         -9.0  "
      ]
     },
     "execution_count": 8,
     "metadata": {},
     "output_type": "execute_result"
    }
   ],
   "source": [
    "datafl = gs.ExampleData('oilsands')\n",
    "datafl.head()"
   ]
  },
  {
   "cell_type": "code",
   "execution_count": 9,
   "id": "cc9647be-a434-4774-a5f3-5b809743c3f9",
   "metadata": {},
   "outputs": [
    {
     "data": {
      "text/html": [
       "<div>\n",
       "<style scoped>\n",
       "    .dataframe tbody tr th:only-of-type {\n",
       "        vertical-align: middle;\n",
       "    }\n",
       "\n",
       "    .dataframe tbody tr th {\n",
       "        vertical-align: top;\n",
       "    }\n",
       "\n",
       "    .dataframe thead th {\n",
       "        text-align: right;\n",
       "    }\n",
       "</style>\n",
       "<table border=\"1\" class=\"dataframe\">\n",
       "  <thead>\n",
       "    <tr style=\"text-align: right;\">\n",
       "      <th></th>\n",
       "      <th>Bitumen</th>\n",
       "      <th>Fines</th>\n",
       "      <th>Chlorides</th>\n",
       "    </tr>\n",
       "  </thead>\n",
       "  <tbody>\n",
       "    <tr>\n",
       "      <th>count</th>\n",
       "      <td>5808.000000</td>\n",
       "      <td>5808.000000</td>\n",
       "      <td>5808.000000</td>\n",
       "    </tr>\n",
       "    <tr>\n",
       "      <th>mean</th>\n",
       "      <td>7.708852</td>\n",
       "      <td>28.707298</td>\n",
       "      <td>103.139353</td>\n",
       "    </tr>\n",
       "    <tr>\n",
       "      <th>std</th>\n",
       "      <td>5.136709</td>\n",
       "      <td>21.247085</td>\n",
       "      <td>286.545409</td>\n",
       "    </tr>\n",
       "    <tr>\n",
       "      <th>min</th>\n",
       "      <td>0.000000</td>\n",
       "      <td>0.861000</td>\n",
       "      <td>-9.000000</td>\n",
       "    </tr>\n",
       "    <tr>\n",
       "      <th>25%</th>\n",
       "      <td>2.877750</td>\n",
       "      <td>10.166000</td>\n",
       "      <td>-9.000000</td>\n",
       "    </tr>\n",
       "    <tr>\n",
       "      <th>50%</th>\n",
       "      <td>7.480000</td>\n",
       "      <td>24.453000</td>\n",
       "      <td>5.400000</td>\n",
       "    </tr>\n",
       "    <tr>\n",
       "      <th>75%</th>\n",
       "      <td>12.666000</td>\n",
       "      <td>42.823250</td>\n",
       "      <td>63.900000</td>\n",
       "    </tr>\n",
       "    <tr>\n",
       "      <th>max</th>\n",
       "      <td>18.428000</td>\n",
       "      <td>86.777000</td>\n",
       "      <td>2602.000000</td>\n",
       "    </tr>\n",
       "  </tbody>\n",
       "</table>\n",
       "</div>"
      ],
      "text/plain": [
       "           Bitumen        Fines    Chlorides\n",
       "count  5808.000000  5808.000000  5808.000000\n",
       "mean      7.708852    28.707298   103.139353\n",
       "std       5.136709    21.247085   286.545409\n",
       "min       0.000000     0.861000    -9.000000\n",
       "25%       2.877750    10.166000    -9.000000\n",
       "50%       7.480000    24.453000     5.400000\n",
       "75%      12.666000    42.823250    63.900000\n",
       "max      18.428000    86.777000  2602.000000"
      ]
     },
     "execution_count": 9,
     "metadata": {},
     "output_type": "execute_result"
    }
   ],
   "source": [
    "datafl.describe()"
   ]
  },
  {
   "cell_type": "code",
   "execution_count": 10,
   "id": "e3e59c53-79ad-4764-a07d-f94797c3b12d",
   "metadata": {},
   "outputs": [
    {
     "data": {
      "text/plain": [
       "['Bitumen', 'Fines', 'Chlorides']"
      ]
     },
     "execution_count": 10,
     "metadata": {},
     "output_type": "execute_result"
    }
   ],
   "source": [
    "datafl.variables"
   ]
  },
  {
   "cell_type": "code",
   "execution_count": 11,
   "id": "ec784e78-21bf-4efc-8a94-4caa8ef0a95e",
   "metadata": {},
   "outputs": [
    {
     "data": {
      "text/plain": [
       "['East', 'North', 'Elevation']"
      ]
     },
     "execution_count": 11,
     "metadata": {},
     "output_type": "execute_result"
    }
   ],
   "source": [
    "datafl.xyz"
   ]
  },
  {
   "cell_type": "code",
   "execution_count": 12,
   "id": "0c0d8b58-210e-4732-b37f-8d18ba24cd34",
   "metadata": {},
   "outputs": [
    {
     "name": "stdout",
     "output_type": "stream",
     "text": [
      "\n",
      "The datafile can be saved as a GSLIB file: Output\\oilsands_out.dat\n",
      "\n",
      "Or as a hdf5 file which can be opened by Excel\n",
      "A subset of columns, can be saved with any of these modes - just saving X, Y and Z for example: Output\\oilsands_out.hdf5\n",
      "\n",
      "Or as a CSV file which can be opened by Excel\n",
      "A subset of columns, can be saved with any of these modes - just saving X, Y and Z for example: Output\\oilsands_out.csv\n"
     ]
    },
    {
     "name": "stderr",
     "output_type": "stream",
     "text": [
      "C:\\Users\\boaky\\anaconda3\\Lib\\site-packages\\pygeostat\\data\\h5_io.py:195: FutureWarning: Series.__getitem__ treating keys as positions is deprecated. In a future version, integer keys will always be treated as labels (consistent with DataFrame behavior). To access a value by position, use `ser.iloc[pos]`\n",
      "  dtype = str(array.dtypes[0])\n",
      "C:\\Users\\boaky\\anaconda3\\Lib\\site-packages\\pygeostat\\data\\h5_io.py:195: FutureWarning: Series.__getitem__ treating keys as positions is deprecated. In a future version, integer keys will always be treated as labels (consistent with DataFrame behavior). To access a value by position, use `ser.iloc[pos]`\n",
      "  dtype = str(array.dtypes[0])\n",
      "C:\\Users\\boaky\\anaconda3\\Lib\\site-packages\\pygeostat\\data\\h5_io.py:195: FutureWarning: Series.__getitem__ treating keys as positions is deprecated. In a future version, integer keys will always be treated as labels (consistent with DataFrame behavior). To access a value by position, use `ser.iloc[pos]`\n",
      "  dtype = str(array.dtypes[0])\n"
     ]
    }
   ],
   "source": [
    "out_dir = 'Output'\n",
    "gs.mkdir(out_dir)\n",
    "\n",
    "outgslibfl = os.path.join(out_dir,'oilsands_out.dat')\n",
    "outcsvfl = os.path.join(out_dir,'oilsands_out.csv')\n",
    "outhdf5fl = os.path.join(out_dir,'oilsands_out.hdf5')\n",
    "\n",
    "print('\\nThe datafile can be saved as a GSLIB file:',outgslibfl)\n",
    "datafl.write_file(flname=outgslibfl, fltype='GSLIB')\n",
    "\n",
    "print('\\nOr as a hdf5 file which can be opened by Excel')\n",
    "print('A subset of columns, can be saved with any of these modes - just saving X, Y and Z for example:',outhdf5fl)\n",
    "datafl.write_file(flname=outhdf5fl, variables=['East','North','Elevation'])\n",
    "\n",
    "print('\\nOr as a CSV file which can be opened by Excel')\n",
    "print('A subset of columns, can be saved with any of these modes - just saving X, Y and Z for example:',outcsvfl)\n",
    "datafl.write_file(flname=outcsvfl, variables=['East','North','Elevation'], fltype='CSV')"
   ]
  },
  {
   "cell_type": "code",
   "execution_count": 13,
   "id": "6b6e1061-5213-452a-9895-56217b7ee4aa",
   "metadata": {},
   "outputs": [
    {
     "name": "stdout",
     "output_type": "stream",
     "text": [
      "\n",
      "The datafile can be saved as a VTK file: Output\\oilsands_out.vtk\n"
     ]
    }
   ],
   "source": [
    "outvtkfl = os.path.join(out_dir,'oilsands_out.vtk')\n",
    "\n",
    "print('\\nThe datafile can be saved as a VTK file:',outvtkfl)\n",
    "datafl.write_file(flname=outvtkfl, fltype='VTK')"
   ]
  },
  {
   "cell_type": "code",
   "execution_count": 15,
   "id": "9e9557fa-0163-43b3-b09c-ae1e775a630e",
   "metadata": {},
   "outputs": [
    {
     "data": {
      "text/plain": [
       "<Axes: title={'center': 'Fines'}, xlabel='Easting (m)', ylabel='Northing (m)'>"
      ]
     },
     "execution_count": 15,
     "metadata": {},
     "output_type": "execute_result"
    },
    {
     "data": {
      "image/png": "[encoded data removed]",
      "text/plain": [
       "<Figure size 1000x1000 with 2 Axes>"
      ]
     },
     "metadata": {},
     "output_type": "display_data"
    }
   ],
   "source": [
    "datafl = gs.DataFile(outgslibfl)\n",
    "gs.location_plot(datafl, var='Fines')"
   ]
  },
  {
   "cell_type": "code",
   "execution_count": 16,
   "id": "733fb794-7281-478b-9e7d-267cffffb98d",
   "metadata": {},
   "outputs": [
    {
     "name": "stderr",
     "output_type": "stream",
     "text": [
      "C:\\Users\\boaky\\anaconda3\\Lib\\site-packages\\pygeostat\\plotting\\location_plot.py:334: UserWarning: No data for colormapping provided via 'c'. Parameters 'cmap', 'vmin', 'vmax' will be ignored\n",
      "  plot = ax.scatter(x_points, y_points, c=collar_var, cmap=cmap, vmin=vlim[0], vmax=vlim[1], s=s,\n"
     ]
    },
    {
     "data": {
      "text/plain": [
       "<Axes: title={'center': 'Bitumen'}, xlabel='Easting (m)', ylabel='Elevation (m)'>"
      ]
     },
     "execution_count": 16,
     "metadata": {},
     "output_type": "execute_result"
    }
   ],
   "source": [
    "gs.location_plot(datafl, var='Bitumen', orient='xz', aspect = 10)"
   ]
  },
  {
   "cell_type": "code",
   "execution_count": 17,
   "id": "410ce343-09f6-4c36-997e-dced006eae60",
   "metadata": {},
   "outputs": [
    {
     "data": {
      "text/html": [
       "<div>\n",
       "<style scoped>\n",
       "    .dataframe tbody tr th:only-of-type {\n",
       "        vertical-align: middle;\n",
       "    }\n",
       "\n",
       "    .dataframe tbody tr th {\n",
       "        vertical-align: top;\n",
       "    }\n",
       "\n",
       "    .dataframe thead th {\n",
       "        text-align: right;\n",
       "    }\n",
       "</style>\n",
       "<table border=\"1\" class=\"dataframe\">\n",
       "  <thead>\n",
       "    <tr style=\"text-align: right;\">\n",
       "      <th></th>\n",
       "      <th>Drillhole Number</th>\n",
       "      <th>East</th>\n",
       "      <th>North</th>\n",
       "      <th>Elevation</th>\n",
       "      <th>Bitumen</th>\n",
       "      <th>Fines</th>\n",
       "      <th>Chlorides</th>\n",
       "      <th>Facies Code</th>\n",
       "      <th>Data Spacing (m)</th>\n",
       "    </tr>\n",
       "  </thead>\n",
       "  <tbody>\n",
       "    <tr>\n",
       "      <th>0</th>\n",
       "      <td>2.0</td>\n",
       "      <td>1245.0</td>\n",
       "      <td>10687.09</td>\n",
       "      <td>257.5</td>\n",
       "      <td>7.378</td>\n",
       "      <td>28.784</td>\n",
       "      <td>-9.0</td>\n",
       "      <td>-9.0</td>\n",
       "      <td>184.486903</td>\n",
       "    </tr>\n",
       "    <tr>\n",
       "      <th>1</th>\n",
       "      <td>2.0</td>\n",
       "      <td>1245.0</td>\n",
       "      <td>10687.09</td>\n",
       "      <td>254.5</td>\n",
       "      <td>9.176</td>\n",
       "      <td>22.897</td>\n",
       "      <td>-9.0</td>\n",
       "      <td>-9.0</td>\n",
       "      <td>184.486903</td>\n",
       "    </tr>\n",
       "    <tr>\n",
       "      <th>2</th>\n",
       "      <td>2.0</td>\n",
       "      <td>1245.0</td>\n",
       "      <td>10687.09</td>\n",
       "      <td>251.5</td>\n",
       "      <td>11.543</td>\n",
       "      <td>15.144</td>\n",
       "      <td>-9.0</td>\n",
       "      <td>-9.0</td>\n",
       "      <td>184.486903</td>\n",
       "    </tr>\n",
       "    <tr>\n",
       "      <th>3</th>\n",
       "      <td>2.0</td>\n",
       "      <td>1245.0</td>\n",
       "      <td>10687.09</td>\n",
       "      <td>248.5</td>\n",
       "      <td>6.808</td>\n",
       "      <td>30.598</td>\n",
       "      <td>-9.0</td>\n",
       "      <td>-9.0</td>\n",
       "      <td>184.486903</td>\n",
       "    </tr>\n",
       "    <tr>\n",
       "      <th>4</th>\n",
       "      <td>2.0</td>\n",
       "      <td>1245.0</td>\n",
       "      <td>10687.09</td>\n",
       "      <td>245.5</td>\n",
       "      <td>10.657</td>\n",
       "      <td>18.011</td>\n",
       "      <td>-9.0</td>\n",
       "      <td>-9.0</td>\n",
       "      <td>184.486903</td>\n",
       "    </tr>\n",
       "  </tbody>\n",
       "</table>\n",
       "</div>"
      ],
      "text/plain": [
       "   Drillhole Number    East     North  Elevation  Bitumen   Fines  Chlorides  \\\n",
       "0               2.0  1245.0  10687.09      257.5    7.378  28.784       -9.0   \n",
       "1               2.0  1245.0  10687.09      254.5    9.176  22.897       -9.0   \n",
       "2               2.0  1245.0  10687.09      251.5   11.543  15.144       -9.0   \n",
       "3               2.0  1245.0  10687.09      248.5    6.808  30.598       -9.0   \n",
       "4               2.0  1245.0  10687.09      245.5   10.657  18.011       -9.0   \n",
       "\n",
       "   Facies Code  Data Spacing (m)  \n",
       "0         -9.0        184.486903  \n",
       "1         -9.0        184.486903  \n",
       "2         -9.0        184.486903  \n",
       "3         -9.0        184.486903  \n",
       "4         -9.0        184.486903  "
      ]
     },
     "execution_count": 17,
     "metadata": {},
     "output_type": "execute_result"
    }
   ],
   "source": [
    "datafl.spacing(n_nearest=5)\n",
    "datafl.head()"
   ]
  },
  {
   "cell_type": "code",
   "execution_count": 18,
   "id": "e3fa9ac4-e279-428a-a611-9bb0dc591eb6",
   "metadata": {},
   "outputs": [
    {
     "data": {
      "text/plain": [
       "<Axes: title={'center': 'Data Spacing (m)'}, xlabel='Easting (m)', ylabel='Northing (m)'>"
      ]
     },
     "execution_count": 18,
     "metadata": {},
     "output_type": "execute_result"
    }
   ],
   "source": [
    "gs.location_plot(datafl, var='Data Spacing (m)', s=50, cmap='hot')"
   ]
  },
  {
   "cell_type": "code",
   "execution_count": 19,
   "id": "2376fe94-43d1-4f2e-9b19-2e4e02450f47",
   "metadata": {},
   "outputs": [],
   "source": [
    "_ = gs.scatter_plots(datafl)"
   ]
  },
  {
   "cell_type": "code",
   "execution_count": 20,
   "id": "4daafbf2-cc32-4e1d-ba31-87a704e6079f",
   "metadata": {},
   "outputs": [
    {
     "data": {
      "text/plain": [
       "count    64000.000000\n",
       "mean         0.021495\n",
       "std          0.989562\n",
       "min         -4.050000\n",
       "25%         -0.666000\n",
       "50%          0.010000\n",
       "75%          0.686000\n",
       "max          3.870000\n",
       "Name: value, dtype: float64"
      ]
     },
     "execution_count": 20,
     "metadata": {},
     "output_type": "execute_result"
    }
   ],
   "source": [
    "gridstr = '''40  0.5  1    -nx, xmin, xsize\n",
    "40  0.5  1    -ny, ymin, ysize\n",
    "40  0.5  1    -nz, zmin, zsize'''\n",
    "griddef = gs.GridDef(grid_str=gridstr)\n",
    "krigfl = gs.ExampleData('3d_grid', griddef=griddef)\n",
    "krigfl.describe()"
   ]
  },
  {
   "cell_type": "code",
   "execution_count": 21,
   "id": "2b6b2889-f6d9-4098-85af-f90c86ef4f8e",
   "metadata": {},
   "outputs": [
    {
     "data": {
      "text/plain": [
       "<Axes: title={'center': 'Plan View: 0.5 m'}, xlabel='Easting (m)', ylabel='Northing (m)'>"
      ]
     },
     "execution_count": 21,
     "metadata": {},
     "output_type": "execute_result"
    }
   ],
   "source": [
    "fig, (ax1, ax2) = plt.subplots(1, 2, figsize=(15,15))\n",
    "plt.subplots_adjust(wspace=0.4)\n",
    "gs.slice_plot(krigfl, cbar=True, ax=ax1)\n",
    "gs.slice_plot(krigfl.data['value'], griddef, cbar=True, ax=ax2, cmap='inferno')"
   ]
  },
  {
   "cell_type": "code",
   "execution_count": 22,
   "id": "f7a7c9f6-2d3a-4801-a82f-98e40aad35a5",
   "metadata": {},
   "outputs": [],
   "source": [
    "ax = gs.slice_plot(krigfl.data['value'],griddef)\n",
    "_ = gs.contour_plot(krigfl.data['value'],griddef,ax=ax)"
   ]
  },
  {
   "cell_type": "code",
   "execution_count": 23,
   "id": "ad4c6381-d915-4485-b551-9b8607aae5e6",
   "metadata": {},
   "outputs": [
    {
     "name": "stdout",
     "output_type": "stream",
     "text": [
      "Unable to find the provided program! Trying to use the executable pool shipped with pygeostat!\n"
     ]
    },
    {
     "ename": "FileNotFoundError",
     "evalue": "The program C:\\Users\\boaky\\anaconda3\\Lib\\site-packages\\pygeostat\\executable\\kt3dn was not found, check definitions!",
     "output_type": "error",
     "traceback": [
      "\u001b[1;31m---------------------------------------------------------------------------\u001b[0m",
      "\u001b[1;31mFileNotFoundError\u001b[0m                         Traceback (most recent call last)",
      "File \u001b[1;32m~\\anaconda3\\Lib\\site-packages\\pygeostat\\programs\\programs.py:380\u001b[0m, in \u001b[0;36mProgram.getparfile\u001b[1;34m(self, quiet)\u001b[0m\n\u001b[0;32m    379\u001b[0m \u001b[38;5;28;01mtry\u001b[39;00m:\n\u001b[1;32m--> 380\u001b[0m     p \u001b[38;5;241m=\u001b[39m subprocess\u001b[38;5;241m.\u001b[39mPopen(\u001b[38;5;28mself\u001b[39m\u001b[38;5;241m.\u001b[39mprogram, stdout\u001b[38;5;241m=\u001b[39msubprocess\u001b[38;5;241m.\u001b[39mPIPE,\n\u001b[0;32m    381\u001b[0m                          stdin\u001b[38;5;241m=\u001b[39msubprocess\u001b[38;5;241m.\u001b[39mPIPE, stderr\u001b[38;5;241m=\u001b[39msubprocess\u001b[38;5;241m.\u001b[39mSTDOUT,\n\u001b[0;32m    382\u001b[0m                          cwd\u001b[38;5;241m=\u001b[39mdirname)\n\u001b[0;32m    383\u001b[0m     \u001b[38;5;28;01mtry\u001b[39;00m:  \u001b[38;5;66;03m# py3.x\u001b[39;00m\n",
      "File \u001b[1;32m~\\anaconda3\\Lib\\subprocess.py:1039\u001b[0m, in \u001b[0;36mPopen.__init__\u001b[1;34m(self, args, bufsize, executable, stdin, stdout, stderr, preexec_fn, close_fds, shell, cwd, env, universal_newlines, startupinfo, creationflags, restore_signals, start_new_session, pass_fds, user, group, extra_groups, encoding, errors, text, umask, pipesize, process_group)\u001b[0m\n\u001b[0;32m   1036\u001b[0m             \u001b[38;5;28mself\u001b[39m\u001b[38;5;241m.\u001b[39mstderr \u001b[38;5;241m=\u001b[39m io\u001b[38;5;241m.\u001b[39mTextIOWrapper(\u001b[38;5;28mself\u001b[39m\u001b[38;5;241m.\u001b[39mstderr,\n\u001b[0;32m   1037\u001b[0m                     encoding\u001b[38;5;241m=\u001b[39mencoding, errors\u001b[38;5;241m=\u001b[39merrors)\n\u001b[1;32m-> 1039\u001b[0m     \u001b[38;5;28mself\u001b[39m\u001b[38;5;241m.\u001b[39m_execute_child(args, executable, preexec_fn, close_fds,\n\u001b[0;32m   1040\u001b[0m                         pass_fds, cwd, env,\n\u001b[0;32m   1041\u001b[0m                         startupinfo, creationflags, shell,\n\u001b[0;32m   1042\u001b[0m                         p2cread, p2cwrite,\n\u001b[0;32m   1043\u001b[0m                         c2pread, c2pwrite,\n\u001b[0;32m   1044\u001b[0m                         errread, errwrite,\n\u001b[0;32m   1045\u001b[0m                         restore_signals,\n\u001b[0;32m   1046\u001b[0m                         gid, gids, uid, umask,\n\u001b[0;32m   1047\u001b[0m                         start_new_session, process_group)\n\u001b[0;32m   1048\u001b[0m \u001b[38;5;28;01mexcept\u001b[39;00m:\n\u001b[0;32m   1049\u001b[0m     \u001b[38;5;66;03m# Cleanup if the child failed starting.\u001b[39;00m\n",
      "File \u001b[1;32m~\\anaconda3\\Lib\\subprocess.py:1554\u001b[0m, in \u001b[0;36mPopen._execute_child\u001b[1;34m(self, args, executable, preexec_fn, close_fds, pass_fds, cwd, env, startupinfo, creationflags, shell, p2cread, p2cwrite, c2pread, c2pwrite, errread, errwrite, unused_restore_signals, unused_gid, unused_gids, unused_uid, unused_umask, unused_start_new_session, unused_process_group)\u001b[0m\n\u001b[0;32m   1553\u001b[0m \u001b[38;5;28;01mtry\u001b[39;00m:\n\u001b[1;32m-> 1554\u001b[0m     hp, ht, pid, tid \u001b[38;5;241m=\u001b[39m _winapi\u001b[38;5;241m.\u001b[39mCreateProcess(executable, args,\n\u001b[0;32m   1555\u001b[0m                              \u001b[38;5;66;03m# no special security\u001b[39;00m\n\u001b[0;32m   1556\u001b[0m                              \u001b[38;5;28;01mNone\u001b[39;00m, \u001b[38;5;28;01mNone\u001b[39;00m,\n\u001b[0;32m   1557\u001b[0m                              \u001b[38;5;28mint\u001b[39m(\u001b[38;5;129;01mnot\u001b[39;00m close_fds),\n\u001b[0;32m   1558\u001b[0m                              creationflags,\n\u001b[0;32m   1559\u001b[0m                              env,\n\u001b[0;32m   1560\u001b[0m                              cwd,\n\u001b[0;32m   1561\u001b[0m                              startupinfo)\n\u001b[0;32m   1562\u001b[0m \u001b[38;5;28;01mfinally\u001b[39;00m:\n\u001b[0;32m   1563\u001b[0m     \u001b[38;5;66;03m# Child is launched. Close the parent's copy of those pipe\u001b[39;00m\n\u001b[0;32m   1564\u001b[0m     \u001b[38;5;66;03m# handles that only the child should have open.  You need\u001b[39;00m\n\u001b[1;32m   (...)\u001b[0m\n\u001b[0;32m   1567\u001b[0m     \u001b[38;5;66;03m# pipe will not close when the child process exits and the\u001b[39;00m\n\u001b[0;32m   1568\u001b[0m     \u001b[38;5;66;03m# ReadFile will hang.\u001b[39;00m\n",
      "\u001b[1;31mFileNotFoundError\u001b[0m: [WinError 2] The system cannot find the file specified",
      "\nDuring handling of the above exception, another exception occurred:\n",
      "\u001b[1;31mFileNotFoundError\u001b[0m                         Traceback (most recent call last)",
      "Cell \u001b[1;32mIn[23], line 1\u001b[0m\n\u001b[1;32m----> 1\u001b[0m kt3dn \u001b[38;5;241m=\u001b[39m gs\u001b[38;5;241m.\u001b[39mProgram(program\u001b[38;5;241m=\u001b[39mexe_dir\u001b[38;5;241m+\u001b[39m\u001b[38;5;124m'\u001b[39m\u001b[38;5;124mkt3dn\u001b[39m\u001b[38;5;124m'\u001b[39m, getpar\u001b[38;5;241m=\u001b[39m\u001b[38;5;28;01mTrue\u001b[39;00m)\n",
      "File \u001b[1;32m~\\anaconda3\\Lib\\site-packages\\pygeostat\\programs\\programs.py:42\u001b[0m, in \u001b[0;36mProgram.__init__\u001b[1;34m(self, program, parstr, parfile, getpar, nogetarg, defaultdict)\u001b[0m\n\u001b[0;32m     40\u001b[0m     getpar \u001b[38;5;241m=\u001b[39m Parameters[\u001b[38;5;124m'\u001b[39m\u001b[38;5;124mconfig.getpar\u001b[39m\u001b[38;5;124m'\u001b[39m]\n\u001b[0;32m     41\u001b[0m \u001b[38;5;28;01mif\u001b[39;00m getpar:\n\u001b[1;32m---> 42\u001b[0m     \u001b[38;5;28mself\u001b[39m\u001b[38;5;241m.\u001b[39mgetparfile()\n",
      "File \u001b[1;32m~\\anaconda3\\Lib\\site-packages\\pygeostat\\programs\\programs.py:391\u001b[0m, in \u001b[0;36mProgram.getparfile\u001b[1;34m(self, quiet)\u001b[0m\n\u001b[0;32m    389\u001b[0m             \u001b[38;5;28;01mraise\u001b[39;00m \u001b[38;5;167;01mException\u001b[39;00m(\u001b[38;5;124m'\u001b[39m\u001b[38;5;124mSomething went wrong with calling \u001b[39m\u001b[38;5;124m'\u001b[39m \u001b[38;5;241m+\u001b[39m \u001b[38;5;28mself\u001b[39m\u001b[38;5;241m.\u001b[39mprogram)\n\u001b[0;32m    390\u001b[0m \u001b[38;5;28;01mexcept\u001b[39;00m \u001b[38;5;167;01mFileNotFoundError\u001b[39;00m:\n\u001b[1;32m--> 391\u001b[0m     \u001b[38;5;28;01mraise\u001b[39;00m \u001b[38;5;167;01mFileNotFoundError\u001b[39;00m(\u001b[38;5;124m'\u001b[39m\u001b[38;5;124mThe program \u001b[39m\u001b[38;5;124m'\u001b[39m \u001b[38;5;241m+\u001b[39m \u001b[38;5;28mself\u001b[39m\u001b[38;5;241m.\u001b[39mprogram \u001b[38;5;241m+\u001b[39m \u001b[38;5;124m'\u001b[39m\u001b[38;5;124m was not found, \u001b[39m\u001b[38;5;124m'\u001b[39m\n\u001b[0;32m    392\u001b[0m                             \u001b[38;5;124m'\u001b[39m\u001b[38;5;124mcheck definitions!\u001b[39m\u001b[38;5;124m'\u001b[39m)\n\u001b[0;32m    393\u001b[0m \u001b[38;5;66;03m# assume that the parfile is called \"self.program + '.par' \"\u001b[39;00m\n\u001b[0;32m    394\u001b[0m \u001b[38;5;28;01mif\u001b[39;00m os\u001b[38;5;241m.\u001b[39mpath\u001b[38;5;241m.\u001b[39misfile(dirname \u001b[38;5;241m+\u001b[39m \u001b[38;5;124m'\u001b[39m\u001b[38;5;124m/\u001b[39m\u001b[38;5;124m'\u001b[39m \u001b[38;5;241m+\u001b[39m \u001b[38;5;28mself\u001b[39m\u001b[38;5;241m.\u001b[39mprogram \u001b[38;5;241m+\u001b[39m \u001b[38;5;124m'\u001b[39m\u001b[38;5;124m.par\u001b[39m\u001b[38;5;124m'\u001b[39m):\n",
      "\u001b[1;31mFileNotFoundError\u001b[0m: The program C:\\Users\\boaky\\anaconda3\\Lib\\site-packages\\pygeostat\\executable\\kt3dn was not found, check definitions!"
     ]
    }
   ],
   "source": [
    "kt3dn = gs.Program(program=exe_dir+'kt3dn', getpar=True)"
   ]
  },
  {
   "cell_type": "code",
   "execution_count": null,
   "id": "0d480529-1f2c-40d9-9655-b7f2b6824e18",
   "metadata": {},
   "outputs": [],
   "source": [
    "# use pygeosta to infer grid definition\n",
    "datafl.infergriddef(blksize=[100,100,10])"
   ]
  },
  {
   "cell_type": "code",
   "execution_count": null,
   "id": "ea07cee5-e26b-43f0-80ba-00517fe896d9",
   "metadata": {},
   "outputs": [],
   "source": [
    "parstr = \"\"\"                 Parameters for KT3DN\n",
    "                 ********************\n",
    "START OF PARAMETERS:\n",
    "{flname}                         -file with data\n",
    "{cols}  0                        -  columns for DH,X,Y,Z,var,sec var\n",
    "-998.0    1.0e21                 -  trimming limits\n",
    "0                                -option: 0=grid, 1=cross, 2=jackknife\n",
    "xvk.dat                          -file with jackknife data\n",
    "1   2   0    3    0              -   columns for X,Y,Z,vr and sec var\n",
    "kt3dn_dataspacing.out            -data spacing analysis output file (see note)\n",
    "0    15.0                        -  number to search (0 for no dataspacing analysis, rec. 10 or 20) and composite length\n",
    "0    100   0                     -debugging level: 0,3,5,10; max data for GSKV;output total weight of each data?(0=no,1=yes)\n",
    "kt3dn.dbg-nkt3dn.sum             -file for debugging output (see note)\n",
    "{outfl}                          -file for kriged output (see GSB note)\n",
    "{griddef}\n",
    "1    1      1                    -x,y and z block discretization\n",
    "4    40    12    1               -min, max data for kriging,upper max for ASO,ASO incr\n",
    "0      0                         -max per octant, max per drillhole (0-> not used)\n",
    "8000.0  8000.0  400.0              -maximum search radii\n",
    " 0.0   0.0   0.0                 -angles for search ellipsoid\n",
    "1                                -0=SK,1=OK,2=LVM(resid),3=LVM((1-w)*m(u))),4=colo,5=exdrift,6=ICCK\n",
    "0.0  0.6  0.8                  -  mean (if 0,4,5,6), corr. (if 4 or 6), var. reduction factor (if 4)\n",
    "0 0 0 0 0 0 0 0 0                -drift: x,y,z,xx,yy,zz,xy,xz,zy\n",
    "0                                -0, variable; 1, estimate trend\n",
    "extdrift.out                     -gridded file with drift/mean\n",
    "4                                -  column number in gridded file\n",
    "onfile                       -gridded file with keyout (see note)\n",
    "0    1                           -  column (0 if no keyout) and value to keep\n",
    "2    0.0                      -nst, nugget effect\n",
    "1    0.25  0.0   0.0   0.0    -it,cc,ang1,ang2,ang3\n",
    "        400.0  300.0  25.0    -a_hmax, a_hmin, a_vert\n",
    "1    0.75  0.0   0.0   0.0    -it,cc,ang1,ang2,ang3\n",
    "      800.0 450.0  30.0    -a_hmax, a_hmin, a_vert\n",
    "\"\"\"\n",
    "\n",
    "griddef = datafl.griddef\n",
    "\n",
    "kriging_output = os.path.join(out_dir, 'kt3dn.out')\n",
    "\n",
    "kt3dnpars ={'flname':datafl.flname,\n",
    "            'griddef':griddef,\n",
    "            'outfl': kriging_output,\n",
    "            'cols':datafl.gscol([datafl.dh]+datafl.xyz + ['Bitumen'])}\n",
    "print('Note that the string representation of columns can be returned using the GSCOL function for a list of variables:',\n",
    "      kt3dnpars['cols'])\n",
    "\n",
    "kt3dn.run(parstr=parstr.format(**kt3dnpars))"
   ]
  },
  {
   "cell_type": "code",
   "execution_count": null,
   "id": "b6520c93-4768-4fcb-be1e-eda975bc569f",
   "metadata": {},
   "outputs": [],
   "source": [
    "krigfl = gs.DataFile(kriging_output, griddef=datafl.griddef)\n",
    "krigfl.head()"
   ]
  },
  {
   "cell_type": "code",
   "execution_count": null,
   "id": "69ecebe3-ccee-405f-a989-00991c17b0ac",
   "metadata": {},
   "outputs": [],
   "source": [
    "gs.slice_plot(krigfl, var='Estimate', orient='yz', pointdata=datafl, pointvar='Bitumen', aspect = 10)"
   ]
  },
  {
   "cell_type": "code",
   "execution_count": null,
   "id": "dbe0bf67-7ddc-41a1-acb4-0587ea433d2f",
   "metadata": {},
   "outputs": [],
   "source": [
    "# Clean up\n",
    "try:\n",
    "    gs.rmfile('temp')\n",
    "    gs.rmfile('kt3dn.dbg')\n",
    "    gs.rmdir(out_dir) #command to delete generated data file\n",
    "except:\n",
    "    pass"
   ]
  },
  {
   "cell_type": "code",
   "execution_count": null,
   "id": "0585e133-6e84-4d47-b20f-0bc611b12318",
   "metadata": {},
   "outputs": [],
   "source": []
  }
 ],
 "metadata": {
  "kernelspec": {
   "display_name": "Python [conda env:base] *",
   "language": "python",
   "name": "conda-base-py"
  },
  "language_info": {
   "codemirror_mode": {
    "name": "ipython",
    "version": 3
   },
   "file_extension": ".py",
   "mimetype": "text/x-python",
   "name": "python",
   "nbconvert_exporter": "python",
   "pygments_lexer": "ipython3",
   "version": "3.13.5"
  }
 },
 "nbformat": 4,
 "nbformat_minor": 5
}
