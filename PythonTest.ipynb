{
 "cells": [
  {
   "cell_type": "markdown",
   "metadata": {},
   "source": [
    "# Python Test\n",
    "\n",
    "The following notebook applies selected steps from the structural modeling workflow. In doing so, it tests whether Python and Pygeostat (and its dependencies) are properly installed. Users are encouraged to execute this notebook with ```Kernel > Restart & Runall```, before comparing the in-line results with the provided results in PythonTest.html. \n",
    "\n",
    "The following notebook is comprised of 9 primary steps:\n",
    "\n",
    "1. Initialize required packages, directories and parameters \n",
    "2. Load and inspect the surface data\n",
    "3. Decluster and normal score transform\n",
    "4. Variogram calculation and modeling\n",
    "5. Simulation and back-transformation\n",
    "6. Simulation checking \n",
    "7. Base surface calculation\n",
    "8. Save project setting and clean the output files"
   ]
  },
  {
   "cell_type": "markdown",
   "metadata": {},
   "source": [
    "## 1. Initialize required packages and parameters"
   ]
  },
  {
   "cell_type": "code",
   "execution_count": 1,
   "metadata": {
    "ExecuteTime": {
     "end_time": "2019-04-29T20:42:24.252068Z",
     "start_time": "2019-04-29T20:42:16.975683Z"
    }
   },
   "outputs": [
    {
     "data": {
      "text/plain": [
       "'1.2.0'"
      ]
     },
     "execution_count": 1,
     "metadata": {},
     "output_type": "execute_result"
    }
   ],
   "source": [
    "import pygeostat as gs\n",
    "import numpy as np\n",
    "import pandas as pd\n",
    "import matplotlib.pyplot as plt\n",
    "%matplotlib inline\n",
    "gs.__version__"
   ]
  },
  {
   "cell_type": "markdown",
   "metadata": {},
   "source": [
    "### Parameters and default settings"
   ]
  },
  {
   "cell_type": "code",
   "execution_count": 2,
   "metadata": {
    "ExecuteTime": {
     "end_time": "2019-04-29T20:42:24.347989Z",
     "start_time": "2019-04-29T20:42:24.254026Z"
    }
   },
   "outputs": [
    {
     "ename": "TypeError",
     "evalue": "GridDef.__init__() got an unexpected keyword argument 'gridfl'. Did you mean 'grid_file'?",
     "output_type": "error",
     "traceback": [
      "\u001b[1;31m---------------------------------------------------------------------------\u001b[0m",
      "\u001b[1;31mTypeError\u001b[0m                                 Traceback (most recent call last)",
      "Cell \u001b[1;32mIn[2], line 2\u001b[0m\n\u001b[0;32m      1\u001b[0m \u001b[38;5;66;03m# Grid definition\u001b[39;00m\n\u001b[1;32m----> 2\u001b[0m griddef \u001b[38;5;241m=\u001b[39m gs\u001b[38;5;241m.\u001b[39mGridDef(gridfl\u001b[38;5;241m=\u001b[39m\u001b[38;5;124m'\u001b[39m\u001b[38;5;124minput/griddef.txt\u001b[39m\u001b[38;5;124m'\u001b[39m)\n\u001b[0;32m      3\u001b[0m gs\u001b[38;5;241m.\u001b[39mgsParams[\u001b[38;5;124m'\u001b[39m\u001b[38;5;124mdata.griddef\u001b[39m\u001b[38;5;124m'\u001b[39m] \u001b[38;5;241m=\u001b[39m griddef\n\u001b[0;32m      4\u001b[0m \u001b[38;5;28mprint\u001b[39m(\u001b[38;5;28mrepr\u001b[39m(griddef))\n",
      "\u001b[1;31mTypeError\u001b[0m: GridDef.__init__() got an unexpected keyword argument 'gridfl'. Did you mean 'grid_file'?"
     ]
    }
   ],
   "source": [
    "# Grid definition\n",
    "griddef = gs.GridDef(gridfl='input/griddef.txt')\n",
    "gs.gsParams['data.griddef'] = griddef\n",
    "print(repr(griddef))\n",
    "\n",
    "# Number of realizations\n",
    "nreal = 4\n",
    "gs.gsParams['data.nreal'] = nreal\n",
    "print('nreal = {}'.format(nreal))\n",
    "\n",
    "# Set the fontsize and figure size\n",
    "gs.set_style(custom={'font.size':12, 'figure.figsize':(5, 5)})"
   ]
  },
  {
   "cell_type": "markdown",
   "metadata": {},
   "source": [
    "### Directories and files"
   ]
  },
  {
   "cell_type": "code",
   "execution_count": 3,
   "metadata": {
    "ExecuteTime": {
     "end_time": "2019-04-29T20:42:24.441937Z",
     "start_time": "2019-04-29T20:42:24.348971Z"
    }
   },
   "outputs": [],
   "source": [
    "# Path to the CCG executables\n",
    "exedir = 'input/'\n",
    "\n",
    "# create the output directory\n",
    "outdir = 'Output/'\n",
    "gs.mkdir(outdir)"
   ]
  },
  {
   "cell_type": "markdown",
   "metadata": {},
   "source": [
    "## 1. Load and inspect the surface data\n",
    "\n",
    "### Load the data and note its attributes"
   ]
  },
  {
   "cell_type": "code",
   "execution_count": 4,
   "metadata": {
    "ExecuteTime": {
     "end_time": "2019-04-29T20:42:24.659809Z",
     "start_time": "2019-04-29T20:42:24.443918Z"
    },
    "scrolled": true
   },
   "outputs": [
    {
     "name": "stdout",
     "output_type": "stream",
     "text": [
      "columns = ['HoleID' 'X' 'Y' 'Top Elevation' 'Thickness' 'Base Elevation']\n",
      "x column = X, y column = Y\n"
     ]
    }
   ],
   "source": [
    "dat = gs.DataFile('input/PRM_surface.dat')\n",
    "print('columns = {}'.format(dat.columns.values))\n",
    "print('x column = {}, y column = {}'.format(dat.x, dat.y))"
   ]
  },
  {
   "cell_type": "markdown",
   "metadata": {},
   "source": [
    "### Summary statistics\n",
    "The DataFile describe excludes special attributes."
   ]
  },
  {
   "cell_type": "code",
   "execution_count": 5,
   "metadata": {
    "ExecuteTime": {
     "end_time": "2019-04-29T20:42:24.775725Z",
     "start_time": "2019-04-29T20:42:24.662790Z"
    }
   },
   "outputs": [
    {
     "data": {
      "text/html": [
       "<div>\n",
       "<style scoped>\n",
       "    .dataframe tbody tr th:only-of-type {\n",
       "        vertical-align: middle;\n",
       "    }\n",
       "\n",
       "    .dataframe tbody tr th {\n",
       "        vertical-align: top;\n",
       "    }\n",
       "\n",
       "    .dataframe thead th {\n",
       "        text-align: right;\n",
       "    }\n",
       "</style>\n",
       "<table border=\"1\" class=\"dataframe\">\n",
       "  <thead>\n",
       "    <tr style=\"text-align: right;\">\n",
       "      <th></th>\n",
       "      <th>Top Elevation</th>\n",
       "      <th>Thickness</th>\n",
       "      <th>Base Elevation</th>\n",
       "    </tr>\n",
       "  </thead>\n",
       "  <tbody>\n",
       "    <tr>\n",
       "      <th>count</th>\n",
       "      <td>230.000000</td>\n",
       "      <td>230.000000</td>\n",
       "      <td>230.000000</td>\n",
       "    </tr>\n",
       "    <tr>\n",
       "      <th>mean</th>\n",
       "      <td>379.173739</td>\n",
       "      <td>50.096391</td>\n",
       "      <td>329.077348</td>\n",
       "    </tr>\n",
       "    <tr>\n",
       "      <th>std</th>\n",
       "      <td>2.607090</td>\n",
       "      <td>4.376842</td>\n",
       "      <td>4.571519</td>\n",
       "    </tr>\n",
       "    <tr>\n",
       "      <th>min</th>\n",
       "      <td>372.070000</td>\n",
       "      <td>37.730000</td>\n",
       "      <td>315.850000</td>\n",
       "    </tr>\n",
       "    <tr>\n",
       "      <th>25%</th>\n",
       "      <td>377.222500</td>\n",
       "      <td>47.502500</td>\n",
       "      <td>327.137500</td>\n",
       "    </tr>\n",
       "    <tr>\n",
       "      <th>50%</th>\n",
       "      <td>378.950000</td>\n",
       "      <td>49.390000</td>\n",
       "      <td>329.140000</td>\n",
       "    </tr>\n",
       "    <tr>\n",
       "      <th>75%</th>\n",
       "      <td>380.782500</td>\n",
       "      <td>51.900000</td>\n",
       "      <td>332.225000</td>\n",
       "    </tr>\n",
       "    <tr>\n",
       "      <th>max</th>\n",
       "      <td>386.330000</td>\n",
       "      <td>62.870000</td>\n",
       "      <td>340.870000</td>\n",
       "    </tr>\n",
       "  </tbody>\n",
       "</table>\n",
       "</div>"
      ],
      "text/plain": [
       "       Top Elevation   Thickness  Base Elevation\n",
       "count     230.000000  230.000000      230.000000\n",
       "mean      379.173739   50.096391      329.077348\n",
       "std         2.607090    4.376842        4.571519\n",
       "min       372.070000   37.730000      315.850000\n",
       "25%       377.222500   47.502500      327.137500\n",
       "50%       378.950000   49.390000      329.140000\n",
       "75%       380.782500   51.900000      332.225000\n",
       "max       386.330000   62.870000      340.870000"
      ]
     },
     "execution_count": 5,
     "metadata": {},
     "output_type": "execute_result"
    }
   ],
   "source": [
    "dat.describe()"
   ]
  },
  {
   "cell_type": "markdown",
   "metadata": {},
   "source": [
    "### Location map"
   ]
  },
  {
   "cell_type": "code",
   "execution_count": 6,
   "metadata": {
    "ExecuteTime": {
     "end_time": "2019-04-29T20:42:25.586439Z",
     "start_time": "2019-04-29T20:42:24.776724Z"
    }
   },
   "outputs": [
    {
     "ename": "AttributeError",
     "evalue": "module 'pygeostat' has no attribute 'locmap'",
     "output_type": "error",
     "traceback": [
      "\u001b[1;31m---------------------------------------------------------------------------\u001b[0m",
      "\u001b[1;31mAttributeError\u001b[0m                            Traceback (most recent call last)",
      "Cell \u001b[1;32mIn[6], line 4\u001b[0m\n\u001b[0;32m      2\u001b[0m axes \u001b[38;5;241m=\u001b[39m axes\u001b[38;5;241m.\u001b[39mflatten()\n\u001b[0;32m      3\u001b[0m \u001b[38;5;28;01mfor\u001b[39;00m var, ax \u001b[38;5;129;01min\u001b[39;00m \u001b[38;5;28mzip\u001b[39m(dat\u001b[38;5;241m.\u001b[39mvariables, axes):\n\u001b[1;32m----> 4\u001b[0m     gs\u001b[38;5;241m.\u001b[39mlocmap(dat, var\u001b[38;5;241m=\u001b[39mvar, cbar_label\u001b[38;5;241m=\u001b[39m\u001b[38;5;124m'\u001b[39m\u001b[38;5;124mm\u001b[39m\u001b[38;5;124m'\u001b[39m, title\u001b[38;5;241m=\u001b[39mvar, ax\u001b[38;5;241m=\u001b[39max)\n\u001b[0;32m      5\u001b[0m \u001b[38;5;66;03m# Remove the unneeded fourth axis\u001b[39;00m\n\u001b[0;32m      6\u001b[0m axes[\u001b[38;5;241m-\u001b[39m\u001b[38;5;241m1\u001b[39m]\u001b[38;5;241m.\u001b[39mremove()\n",
      "\u001b[1;31mAttributeError\u001b[0m: module 'pygeostat' has no attribute 'locmap'"
     ]
    }
   ],
   "source": [
    "fig, axes = plt.subplots(2, 2, figsize=(10, 10))\n",
    "axes = axes.flatten()\n",
    "for var, ax in zip(dat.variables, axes):\n",
    "    gs.locmap(dat, var=var, cbar_label='m', title=var, ax=ax)\n",
    "# Remove the unneeded fourth axis\n",
    "axes[-1].remove()\n",
    "fig.tight_layout()"
   ]
  },
  {
   "cell_type": "markdown",
   "metadata": {},
   "source": [
    "## 3. Decluster and Normal Score Transform\n",
    "\n",
    "Declustering defines the spatially representative distribution of the Top Elevation and Thickness. These distributions are then used for the normal score transformation, generating conditioning data that is used for calculating normal score variograms and conditioning sequential Gaussian simulation.\n",
    "\n",
    "Note that variograms are often calculated on data that are normal score transformed without declustering weights. Given the controversy of the subject, the more convenient method is selected for this course (since declustering with weights is absolutely required for conditioning).\n",
    "\n",
    "### Decluster the data\n",
    "All variables are homotopically sampled, so only one variable need be considered for declustering.\n"
   ]
  },
  {
   "cell_type": "code",
   "execution_count": 7,
   "metadata": {
    "ExecuteTime": {
     "end_time": "2019-04-29T20:42:25.759110Z",
     "start_time": "2019-04-29T20:42:25.586439Z"
    }
   },
   "outputs": [
    {
     "name": "stdout",
     "output_type": "stream",
     "text": [
      "C:\\Users\\boaky\\CCG\\PythonTest\\tmppmxdg8_h\\declus.par has been copied to the clipboard\n"
     ]
    }
   ],
   "source": [
    "declus = gs.Program(program=exedir+'declus', getpar=True)"
   ]
  },
  {
   "cell_type": "code",
   "execution_count": null,
   "metadata": {
    "ExecuteTime": {
     "end_time": "2019-04-29T20:42:25.882877Z",
     "start_time": "2019-04-29T20:42:25.760106Z"
    }
   },
   "outputs": [],
   "source": [
    "# Cell size based on the data spacing study in the intro notebook\n",
    "cellsize=90\n",
    "\n",
    "parstr = \"\"\"   Parameters for DECLUS\n",
    "                  *********************\n",
    "\n",
    "START OF PARAMETERS:\n",
    "{datafl}                 -file with data\n",
    "{xycol}   0   {varcol}   -  columns for X, Y, Z, and variable\n",
    "-1.0e21     1.0e21       -  trimming limits\n",
    "junk.out                 -file for summary output\n",
    "{outfl}                  -file for output with data & weights\n",
    "1.0   1.0                   -Y and Z cell anisotropy (Ysize=size*Yanis)\n",
    "0                           -0=look for minimum declustered mean (1=max)\n",
    "1  {cellsize}  {cellsize}               -number of cell sizes, min size, max size\n",
    "5                           -number of origin offsets\n",
    "\"\"\"\n",
    "declus.run(parstr=parstr.format(datafl=dat.flname,\n",
    "                                xycol=dat.gscol(dat.xyz),\n",
    "                                varcol=dat.gscol('Top Elevation'),\n",
    "                                outfl=outdir+'declus.out',\n",
    "                                cellsize=cellsize))\n",
    "gs.rmfile('junk.out')"
   ]
  },
  {
   "cell_type": "markdown",
   "metadata": {},
   "source": [
    "### Load and inspect the declustering results\n",
    "\n",
    "In the context of the upcoming modeling steps, Base Elevation is not considered a variable. Use of the notvariables kwarg on initialization excludes it from the variables attribute."
   ]
  },
  {
   "cell_type": "code",
   "execution_count": 8,
   "metadata": {
    "ExecuteTime": {
     "end_time": "2019-04-29T20:42:25.993107Z",
     "start_time": "2019-04-29T20:42:25.883877Z"
    }
   },
   "outputs": [
    {
     "ename": "FileNotFoundError",
     "evalue": "Output/declus.out does not exist!",
     "output_type": "error",
     "traceback": [
      "\u001b[1;31m---------------------------------------------------------------------------\u001b[0m",
      "\u001b[1;31mFileNotFoundError\u001b[0m                         Traceback (most recent call last)",
      "File \u001b[1;32m~\\anaconda3\\Lib\\site-packages\\pygeostat\\data\\iotools.py:111\u001b[0m, in \u001b[0;36m_test_file_open\u001b[1;34m(filename)\u001b[0m\n\u001b[0;32m    110\u001b[0m \u001b[38;5;28;01mtry\u001b[39;00m:\n\u001b[1;32m--> 111\u001b[0m     \u001b[38;5;28;01mwith\u001b[39;00m \u001b[38;5;28mopen\u001b[39m(filename, \u001b[38;5;124m'\u001b[39m\u001b[38;5;124mr\u001b[39m\u001b[38;5;124m'\u001b[39m):\n\u001b[0;32m    112\u001b[0m         \u001b[38;5;28;01mpass\u001b[39;00m\n",
      "\u001b[1;31mFileNotFoundError\u001b[0m: [Errno 2] No such file or directory: 'Output/declus.out'",
      "\nDuring handling of the above exception, another exception occurred:\n",
      "\u001b[1;31mFileNotFoundError\u001b[0m                         Traceback (most recent call last)",
      "Cell \u001b[1;32mIn[8], line 1\u001b[0m\n\u001b[1;32m----> 1\u001b[0m dat \u001b[38;5;241m=\u001b[39m gs\u001b[38;5;241m.\u001b[39mDataFile(\u001b[38;5;124m'\u001b[39m\u001b[38;5;124mOutput/declus.out\u001b[39m\u001b[38;5;124m'\u001b[39m, notvariables\u001b[38;5;241m=\u001b[39m\u001b[38;5;124m'\u001b[39m\u001b[38;5;124mBase Elevation\u001b[39m\u001b[38;5;124m'\u001b[39m)\n\u001b[0;32m      2\u001b[0m \u001b[38;5;28mprint\u001b[39m(\u001b[38;5;124m'\u001b[39m\u001b[38;5;124mdeclustering weight = \u001b[39m\u001b[38;5;124m'\u001b[39m, dat\u001b[38;5;241m.\u001b[39mwts)\n\u001b[0;32m      3\u001b[0m \u001b[38;5;28mprint\u001b[39m(\u001b[38;5;124m'\u001b[39m\u001b[38;5;124mvariables = \u001b[39m\u001b[38;5;124m'\u001b[39m, dat\u001b[38;5;241m.\u001b[39mvariables)\n",
      "File \u001b[1;32m~\\anaconda3\\Lib\\site-packages\\pygeostat\\data\\data.py:205\u001b[0m, in \u001b[0;36mDataFile.__init__\u001b[1;34m(self, flname, readfl, fltype, dftype, data, columns, null, title, griddef, dh, x, y, z, ifrom, ito, weights, cat, catdict, variables, notvariables, delimiter, headeronly, h5path, h5datasets, nreals, tmin)\u001b[0m\n\u001b[0;32m    203\u001b[0m \t\t\u001b[38;5;28mself\u001b[39m\u001b[38;5;241m.\u001b[39mstore \u001b[38;5;241m=\u001b[39m H5Store(flname)\n\u001b[0;32m    204\u001b[0m \t\u001b[38;5;66;03m# read the file and import data and/or header\u001b[39;00m\n\u001b[1;32m--> 205\u001b[0m \t\u001b[38;5;28mself\u001b[39m\u001b[38;5;241m.\u001b[39mdata \u001b[38;5;241m=\u001b[39m read_file(\u001b[38;5;28mself\u001b[39m\u001b[38;5;241m.\u001b[39mflname, fltype\u001b[38;5;241m=\u001b[39mfltype, headeronly\u001b[38;5;241m=\u001b[39mheaderonly,\n\u001b[0;32m    206\u001b[0m \t\t\t\t\t\t delimiter\u001b[38;5;241m=\u001b[39mdelimiter, h5path\u001b[38;5;241m=\u001b[39mh5path, h5datasets\u001b[38;5;241m=\u001b[39mh5datasets,\n\u001b[0;32m    207\u001b[0m \t\t\t\t\t\t columns\u001b[38;5;241m=\u001b[39mcolumns, griddef\u001b[38;5;241m=\u001b[39m\u001b[38;5;28mself\u001b[39m\u001b[38;5;241m.\u001b[39mgriddef, ireal\u001b[38;5;241m=\u001b[39mnreals, tmin\u001b[38;5;241m=\u001b[39mtmin)\n\u001b[0;32m    208\u001b[0m \u001b[38;5;66;03m# Try and coerce data into a pandas dataframe if it is not already\u001b[39;00m\n\u001b[0;32m    209\u001b[0m \u001b[38;5;28;01mif\u001b[39;00m (data \u001b[38;5;129;01mis\u001b[39;00m \u001b[38;5;129;01mnot\u001b[39;00m \u001b[38;5;28;01mNone\u001b[39;00m) \u001b[38;5;129;01mand\u001b[39;00m (\u001b[38;5;129;01mnot\u001b[39;00m \u001b[38;5;28misinstance\u001b[39m(data, pd\u001b[38;5;241m.\u001b[39mDataFrame)):\n",
      "File \u001b[1;32m~\\anaconda3\\Lib\\site-packages\\pygeostat\\data\\iotools.py:85\u001b[0m, in \u001b[0;36mread_file\u001b[1;34m(flname, fltype, headeronly, delimiter, h5path, h5datasets, columns, ireal, griddef, tmin)\u001b[0m\n\u001b[0;32m     83\u001b[0m \u001b[38;5;66;03m# Call specific read functions based on data type\u001b[39;00m\n\u001b[0;32m     84\u001b[0m \u001b[38;5;28;01mif\u001b[39;00m fltype \u001b[38;5;241m==\u001b[39m \u001b[38;5;124m'\u001b[39m\u001b[38;5;124mgslib\u001b[39m\u001b[38;5;124m'\u001b[39m:\n\u001b[1;32m---> 85\u001b[0m     data \u001b[38;5;241m=\u001b[39m read_gslib(flname\u001b[38;5;241m=\u001b[39mflname, headeronly\u001b[38;5;241m=\u001b[39mheaderonly, delimiter\u001b[38;5;241m=\u001b[39mdelimiter,\n\u001b[0;32m     86\u001b[0m                       tmin\u001b[38;5;241m=\u001b[39mtmin)\n\u001b[0;32m     87\u001b[0m \u001b[38;5;28;01melif\u001b[39;00m fltype \u001b[38;5;241m==\u001b[39m \u001b[38;5;124m'\u001b[39m\u001b[38;5;124mcsv\u001b[39m\u001b[38;5;124m'\u001b[39m:\n\u001b[0;32m     88\u001b[0m     data \u001b[38;5;241m=\u001b[39m read_csv(flname\u001b[38;5;241m=\u001b[39mflname, headeronly\u001b[38;5;241m=\u001b[39mheaderonly, tmin\u001b[38;5;241m=\u001b[39mtmin)\n",
      "File \u001b[1;32m~\\anaconda3\\Lib\\site-packages\\pygeostat\\data\\iotools.py:138\u001b[0m, in \u001b[0;36mread_gslib\u001b[1;34m(flname, headeronly, delimiter, tmin)\u001b[0m\n\u001b[0;32m    120\u001b[0m \u001b[38;5;250m\u001b[39m\u001b[38;5;124;03m'''Reads in a GSLIB-style Geo-EAS data file\u001b[39;00m\n\u001b[0;32m    121\u001b[0m \n\u001b[0;32m    122\u001b[0m \u001b[38;5;124;03mParameters:\u001b[39;00m\n\u001b[1;32m   (...)\u001b[0m\n\u001b[0;32m    135\u001b[0m \n\u001b[0;32m    136\u001b[0m \u001b[38;5;124;03m'''\u001b[39;00m\n\u001b[0;32m    137\u001b[0m \u001b[38;5;66;03m# Can the file be opened?\u001b[39;00m\n\u001b[1;32m--> 138\u001b[0m _test_file_open(flname)\n\u001b[0;32m    139\u001b[0m \u001b[38;5;66;03m# Only read in the header + 1 line of the data file?\u001b[39;00m\n\u001b[0;32m    140\u001b[0m \u001b[38;5;28;01mif\u001b[39;00m headeronly:\n",
      "File \u001b[1;32m~\\anaconda3\\Lib\\site-packages\\pygeostat\\data\\iotools.py:114\u001b[0m, in \u001b[0;36m_test_file_open\u001b[1;34m(filename)\u001b[0m\n\u001b[0;32m    112\u001b[0m         \u001b[38;5;28;01mpass\u001b[39;00m\n\u001b[0;32m    113\u001b[0m \u001b[38;5;28;01mexcept\u001b[39;00m \u001b[38;5;167;01mFileNotFoundError\u001b[39;00m:\n\u001b[1;32m--> 114\u001b[0m     \u001b[38;5;28;01mraise\u001b[39;00m \u001b[38;5;167;01mFileNotFoundError\u001b[39;00m(\u001b[38;5;124m'\u001b[39m\u001b[38;5;132;01m{}\u001b[39;00m\u001b[38;5;124m does not exist!\u001b[39m\u001b[38;5;124m'\u001b[39m\u001b[38;5;241m.\u001b[39mformat(filename))\n\u001b[0;32m    115\u001b[0m \u001b[38;5;28;01mexcept\u001b[39;00m \u001b[38;5;167;01mIOError\u001b[39;00m:\n\u001b[0;32m    116\u001b[0m     \u001b[38;5;28;01mraise\u001b[39;00m \u001b[38;5;167;01mIOError\u001b[39;00m(\u001b[38;5;124m'\u001b[39m\u001b[38;5;124mCould not open \u001b[39m\u001b[38;5;132;01m{}\u001b[39;00m\u001b[38;5;124m'\u001b[39m\u001b[38;5;241m.\u001b[39mformat(filename))\n",
      "\u001b[1;31mFileNotFoundError\u001b[0m: Output/declus.out does not exist!"
     ]
    }
   ],
   "source": [
    "dat = gs.DataFile('Output/declus.out', notvariables='Base Elevation')\n",
    "print('declustering weight = ', dat.wts)\n",
    "print('variables = ', dat.variables)"
   ]
  },
  {
   "cell_type": "code",
   "execution_count": 9,
   "metadata": {
    "ExecuteTime": {
     "end_time": "2019-04-29T20:42:26.267437Z",
     "start_time": "2019-04-29T20:42:25.994106Z"
    }
   },
   "outputs": [
    {
     "ename": "AttributeError",
     "evalue": "module 'pygeostat' has no attribute 'locmap'",
     "output_type": "error",
     "traceback": [
      "\u001b[1;31m---------------------------------------------------------------------------\u001b[0m",
      "\u001b[1;31mAttributeError\u001b[0m                            Traceback (most recent call last)",
      "Cell \u001b[1;32mIn[9], line 1\u001b[0m\n\u001b[1;32m----> 1\u001b[0m gs\u001b[38;5;241m.\u001b[39mlocmap(dat, var\u001b[38;5;241m=\u001b[39mdat\u001b[38;5;241m.\u001b[39mwts, title\u001b[38;5;241m=\u001b[39mdat\u001b[38;5;241m.\u001b[39mwts)\n",
      "\u001b[1;31mAttributeError\u001b[0m: module 'pygeostat' has no attribute 'locmap'"
     ]
    }
   ],
   "source": [
    "gs.locmap(dat, var=dat.wts, title=dat.wts)"
   ]
  },
  {
   "cell_type": "markdown",
   "metadata": {},
   "source": [
    "### Normal score transform"
   ]
  },
  {
   "cell_type": "code",
   "execution_count": 10,
   "metadata": {
    "ExecuteTime": {
     "end_time": "2019-04-29T20:42:26.418569Z",
     "start_time": "2019-04-29T20:42:26.268762Z"
    }
   },
   "outputs": [
    {
     "name": "stdout",
     "output_type": "stream",
     "text": [
      "C:\\Users\\boaky\\CCG\\PythonTest\\tmpiel3lz3d\\unscore.par has been copied to the clipboard\n"
     ]
    }
   ],
   "source": [
    "unscore = gs.Program(program=exedir+'unscore', getpar=True)"
   ]
  },
  {
   "cell_type": "code",
   "execution_count": 11,
   "metadata": {
    "ExecuteTime": {
     "end_time": "2019-04-29T20:42:26.566448Z",
     "start_time": "2019-04-29T20:42:26.419570Z"
    }
   },
   "outputs": [
    {
     "ename": "AttributeError",
     "evalue": "'DataFile' object has no attribute 'wts'",
     "output_type": "error",
     "traceback": [
      "\u001b[1;31m---------------------------------------------------------------------------\u001b[0m",
      "\u001b[1;31mAttributeError\u001b[0m                            Traceback (most recent call last)",
      "Cell \u001b[1;32mIn[11], line 22\u001b[0m\n\u001b[0;32m      1\u001b[0m parstr \u001b[38;5;241m=\u001b[39m \u001b[38;5;124m\"\"\"\u001b[39m\u001b[38;5;124m   Parameters for NSCORE\u001b[39m\n\u001b[0;32m      2\u001b[0m \u001b[38;5;124m                  *********************\u001b[39m\n\u001b[0;32m      3\u001b[0m \n\u001b[1;32m   (...)\u001b[0m\n\u001b[0;32m     16\u001b[0m \u001b[38;5;132;01m{trnfl}\u001b[39;00m\u001b[38;5;124m                   -file for output transformation table\u001b[39m\n\u001b[0;32m     17\u001b[0m \u001b[38;5;124m\"\"\"\u001b[39m\n\u001b[0;32m     19\u001b[0m unscore\u001b[38;5;241m.\u001b[39mrun(parstr\u001b[38;5;241m=\u001b[39mparstr\u001b[38;5;241m.\u001b[39mformat(datafl \u001b[38;5;241m=\u001b[39m dat\u001b[38;5;241m.\u001b[39mflname,\n\u001b[0;32m     20\u001b[0m                                      nvar\u001b[38;5;241m=\u001b[39mdat\u001b[38;5;241m.\u001b[39mnvar,\n\u001b[0;32m     21\u001b[0m                                      varcols\u001b[38;5;241m=\u001b[39mdat\u001b[38;5;241m.\u001b[39mgscol(dat\u001b[38;5;241m.\u001b[39mvariables),\n\u001b[1;32m---> 22\u001b[0m                                      wtcol\u001b[38;5;241m=\u001b[39mdat\u001b[38;5;241m.\u001b[39mgscol(dat\u001b[38;5;241m.\u001b[39mwts),\n\u001b[0;32m     23\u001b[0m                                      outfl \u001b[38;5;241m=\u001b[39m outdir\u001b[38;5;241m+\u001b[39m\u001b[38;5;124m'\u001b[39m\u001b[38;5;124mnscore.out\u001b[39m\u001b[38;5;124m'\u001b[39m,\n\u001b[0;32m     24\u001b[0m                                      trnfl \u001b[38;5;241m=\u001b[39m outdir\u001b[38;5;241m+\u001b[39m\u001b[38;5;124m'\u001b[39m\u001b[38;5;124mnscore.trn\u001b[39m\u001b[38;5;124m'\u001b[39m))\n",
      "\u001b[1;31mAttributeError\u001b[0m: 'DataFile' object has no attribute 'wts'"
     ]
    }
   ],
   "source": [
    "parstr = \"\"\"   Parameters for NSCORE\n",
    "                  *********************\n",
    "\n",
    "START OF PARAMETERS:\n",
    "{datafl}                  -file with data\n",
    "{nvar} {varcols}          -  number of variables and columns\n",
    "{wtcol}                   -  column for weight, 0 if none\n",
    "0                         -  column for category, 0 if none\n",
    "0                         -  number of records if known, 0 if unknown\n",
    "-1.0e21   1.0e21          -  trimming limits\n",
    "0                         -transform using a reference distribution, 1=yes\n",
    "../histsmth/histsmth.out  -file with reference distribution.\n",
    "1   2   0                 -columns for variable, weight, and category\n",
    "1000                       -maximum number of quantiles, 0 for all\n",
    "{outfl}                   -file for output\n",
    "{trnfl}                   -file for output transformation table\n",
    "\"\"\"\n",
    "\n",
    "unscore.run(parstr=parstr.format(datafl = dat.flname,\n",
    "                                     nvar=dat.nvar,\n",
    "                                     varcols=dat.gscol(dat.variables),\n",
    "                                     wtcol=dat.gscol(dat.wts),\n",
    "                                     outfl = outdir+'nscore.out',\n",
    "                                     trnfl = outdir+'nscore.trn'))"
   ]
  },
  {
   "cell_type": "markdown",
   "metadata": {},
   "source": [
    "### Load and inspect the normal score transformation result\n",
    "\n",
    "Use the notvariables kwarg leads to isolation of the normal score variables as the dat_ns.variables attribute."
   ]
  },
  {
   "cell_type": "code",
   "execution_count": 12,
   "metadata": {
    "ExecuteTime": {
     "end_time": "2019-04-29T20:42:26.684043Z",
     "start_time": "2019-04-29T20:42:26.568445Z"
    }
   },
   "outputs": [
    {
     "ename": "FileNotFoundError",
     "evalue": "Output/nscore.out does not exist!",
     "output_type": "error",
     "traceback": [
      "\u001b[1;31m---------------------------------------------------------------------------\u001b[0m",
      "\u001b[1;31mFileNotFoundError\u001b[0m                         Traceback (most recent call last)",
      "File \u001b[1;32m~\\anaconda3\\Lib\\site-packages\\pygeostat\\data\\iotools.py:111\u001b[0m, in \u001b[0;36m_test_file_open\u001b[1;34m(filename)\u001b[0m\n\u001b[0;32m    110\u001b[0m \u001b[38;5;28;01mtry\u001b[39;00m:\n\u001b[1;32m--> 111\u001b[0m     \u001b[38;5;28;01mwith\u001b[39;00m \u001b[38;5;28mopen\u001b[39m(filename, \u001b[38;5;124m'\u001b[39m\u001b[38;5;124mr\u001b[39m\u001b[38;5;124m'\u001b[39m):\n\u001b[0;32m    112\u001b[0m         \u001b[38;5;28;01mpass\u001b[39;00m\n",
      "\u001b[1;31mFileNotFoundError\u001b[0m: [Errno 2] No such file or directory: 'Output/nscore.out'",
      "\nDuring handling of the above exception, another exception occurred:\n",
      "\u001b[1;31mFileNotFoundError\u001b[0m                         Traceback (most recent call last)",
      "Cell \u001b[1;32mIn[12], line 1\u001b[0m\n\u001b[1;32m----> 1\u001b[0m dat_ns \u001b[38;5;241m=\u001b[39m gs\u001b[38;5;241m.\u001b[39mDataFile(outdir\u001b[38;5;241m+\u001b[39m\u001b[38;5;124m'\u001b[39m\u001b[38;5;124mnscore.out\u001b[39m\u001b[38;5;124m'\u001b[39m, \n\u001b[0;32m      2\u001b[0m                      notvariables\u001b[38;5;241m=\u001b[39m[\u001b[38;5;124m'\u001b[39m\u001b[38;5;124mBase Elevation\u001b[39m\u001b[38;5;124m'\u001b[39m]\u001b[38;5;241m+\u001b[39mdat\u001b[38;5;241m.\u001b[39mvariables)\n\u001b[0;32m      3\u001b[0m \u001b[38;5;28mprint\u001b[39m(\u001b[38;5;124m'\u001b[39m\u001b[38;5;124mvariables = \u001b[39m\u001b[38;5;124m'\u001b[39m, dat_ns\u001b[38;5;241m.\u001b[39mvariables)\n",
      "File \u001b[1;32m~\\anaconda3\\Lib\\site-packages\\pygeostat\\data\\data.py:205\u001b[0m, in \u001b[0;36mDataFile.__init__\u001b[1;34m(self, flname, readfl, fltype, dftype, data, columns, null, title, griddef, dh, x, y, z, ifrom, ito, weights, cat, catdict, variables, notvariables, delimiter, headeronly, h5path, h5datasets, nreals, tmin)\u001b[0m\n\u001b[0;32m    203\u001b[0m \t\t\u001b[38;5;28mself\u001b[39m\u001b[38;5;241m.\u001b[39mstore \u001b[38;5;241m=\u001b[39m H5Store(flname)\n\u001b[0;32m    204\u001b[0m \t\u001b[38;5;66;03m# read the file and import data and/or header\u001b[39;00m\n\u001b[1;32m--> 205\u001b[0m \t\u001b[38;5;28mself\u001b[39m\u001b[38;5;241m.\u001b[39mdata \u001b[38;5;241m=\u001b[39m read_file(\u001b[38;5;28mself\u001b[39m\u001b[38;5;241m.\u001b[39mflname, fltype\u001b[38;5;241m=\u001b[39mfltype, headeronly\u001b[38;5;241m=\u001b[39mheaderonly,\n\u001b[0;32m    206\u001b[0m \t\t\t\t\t\t delimiter\u001b[38;5;241m=\u001b[39mdelimiter, h5path\u001b[38;5;241m=\u001b[39mh5path, h5datasets\u001b[38;5;241m=\u001b[39mh5datasets,\n\u001b[0;32m    207\u001b[0m \t\t\t\t\t\t columns\u001b[38;5;241m=\u001b[39mcolumns, griddef\u001b[38;5;241m=\u001b[39m\u001b[38;5;28mself\u001b[39m\u001b[38;5;241m.\u001b[39mgriddef, ireal\u001b[38;5;241m=\u001b[39mnreals, tmin\u001b[38;5;241m=\u001b[39mtmin)\n\u001b[0;32m    208\u001b[0m \u001b[38;5;66;03m# Try and coerce data into a pandas dataframe if it is not already\u001b[39;00m\n\u001b[0;32m    209\u001b[0m \u001b[38;5;28;01mif\u001b[39;00m (data \u001b[38;5;129;01mis\u001b[39;00m \u001b[38;5;129;01mnot\u001b[39;00m \u001b[38;5;28;01mNone\u001b[39;00m) \u001b[38;5;129;01mand\u001b[39;00m (\u001b[38;5;129;01mnot\u001b[39;00m \u001b[38;5;28misinstance\u001b[39m(data, pd\u001b[38;5;241m.\u001b[39mDataFrame)):\n",
      "File \u001b[1;32m~\\anaconda3\\Lib\\site-packages\\pygeostat\\data\\iotools.py:85\u001b[0m, in \u001b[0;36mread_file\u001b[1;34m(flname, fltype, headeronly, delimiter, h5path, h5datasets, columns, ireal, griddef, tmin)\u001b[0m\n\u001b[0;32m     83\u001b[0m \u001b[38;5;66;03m# Call specific read functions based on data type\u001b[39;00m\n\u001b[0;32m     84\u001b[0m \u001b[38;5;28;01mif\u001b[39;00m fltype \u001b[38;5;241m==\u001b[39m \u001b[38;5;124m'\u001b[39m\u001b[38;5;124mgslib\u001b[39m\u001b[38;5;124m'\u001b[39m:\n\u001b[1;32m---> 85\u001b[0m     data \u001b[38;5;241m=\u001b[39m read_gslib(flname\u001b[38;5;241m=\u001b[39mflname, headeronly\u001b[38;5;241m=\u001b[39mheaderonly, delimiter\u001b[38;5;241m=\u001b[39mdelimiter,\n\u001b[0;32m     86\u001b[0m                       tmin\u001b[38;5;241m=\u001b[39mtmin)\n\u001b[0;32m     87\u001b[0m \u001b[38;5;28;01melif\u001b[39;00m fltype \u001b[38;5;241m==\u001b[39m \u001b[38;5;124m'\u001b[39m\u001b[38;5;124mcsv\u001b[39m\u001b[38;5;124m'\u001b[39m:\n\u001b[0;32m     88\u001b[0m     data \u001b[38;5;241m=\u001b[39m read_csv(flname\u001b[38;5;241m=\u001b[39mflname, headeronly\u001b[38;5;241m=\u001b[39mheaderonly, tmin\u001b[38;5;241m=\u001b[39mtmin)\n",
      "File \u001b[1;32m~\\anaconda3\\Lib\\site-packages\\pygeostat\\data\\iotools.py:138\u001b[0m, in \u001b[0;36mread_gslib\u001b[1;34m(flname, headeronly, delimiter, tmin)\u001b[0m\n\u001b[0;32m    120\u001b[0m \u001b[38;5;250m\u001b[39m\u001b[38;5;124;03m'''Reads in a GSLIB-style Geo-EAS data file\u001b[39;00m\n\u001b[0;32m    121\u001b[0m \n\u001b[0;32m    122\u001b[0m \u001b[38;5;124;03mParameters:\u001b[39;00m\n\u001b[1;32m   (...)\u001b[0m\n\u001b[0;32m    135\u001b[0m \n\u001b[0;32m    136\u001b[0m \u001b[38;5;124;03m'''\u001b[39;00m\n\u001b[0;32m    137\u001b[0m \u001b[38;5;66;03m# Can the file be opened?\u001b[39;00m\n\u001b[1;32m--> 138\u001b[0m _test_file_open(flname)\n\u001b[0;32m    139\u001b[0m \u001b[38;5;66;03m# Only read in the header + 1 line of the data file?\u001b[39;00m\n\u001b[0;32m    140\u001b[0m \u001b[38;5;28;01mif\u001b[39;00m headeronly:\n",
      "File \u001b[1;32m~\\anaconda3\\Lib\\site-packages\\pygeostat\\data\\iotools.py:114\u001b[0m, in \u001b[0;36m_test_file_open\u001b[1;34m(filename)\u001b[0m\n\u001b[0;32m    112\u001b[0m         \u001b[38;5;28;01mpass\u001b[39;00m\n\u001b[0;32m    113\u001b[0m \u001b[38;5;28;01mexcept\u001b[39;00m \u001b[38;5;167;01mFileNotFoundError\u001b[39;00m:\n\u001b[1;32m--> 114\u001b[0m     \u001b[38;5;28;01mraise\u001b[39;00m \u001b[38;5;167;01mFileNotFoundError\u001b[39;00m(\u001b[38;5;124m'\u001b[39m\u001b[38;5;132;01m{}\u001b[39;00m\u001b[38;5;124m does not exist!\u001b[39m\u001b[38;5;124m'\u001b[39m\u001b[38;5;241m.\u001b[39mformat(filename))\n\u001b[0;32m    115\u001b[0m \u001b[38;5;28;01mexcept\u001b[39;00m \u001b[38;5;167;01mIOError\u001b[39;00m:\n\u001b[0;32m    116\u001b[0m     \u001b[38;5;28;01mraise\u001b[39;00m \u001b[38;5;167;01mIOError\u001b[39;00m(\u001b[38;5;124m'\u001b[39m\u001b[38;5;124mCould not open \u001b[39m\u001b[38;5;132;01m{}\u001b[39;00m\u001b[38;5;124m'\u001b[39m\u001b[38;5;241m.\u001b[39mformat(filename))\n",
      "\u001b[1;31mFileNotFoundError\u001b[0m: Output/nscore.out does not exist!"
     ]
    }
   ],
   "source": [
    "dat_ns = gs.DataFile(outdir+'nscore.out', \n",
    "                     notvariables=['Base Elevation']+dat.variables)\n",
    "print('variables = ', dat_ns.variables)"
   ]
  },
  {
   "cell_type": "code",
   "execution_count": 13,
   "metadata": {
    "ExecuteTime": {
     "end_time": "2019-04-29T20:42:27.632438Z",
     "start_time": "2019-04-29T20:42:26.685041Z"
    }
   },
   "outputs": [
    {
     "ename": "AttributeError",
     "evalue": "module 'pygeostat' has no attribute 'histplt'",
     "output_type": "error",
     "traceback": [
      "\u001b[1;31m---------------------------------------------------------------------------\u001b[0m",
      "\u001b[1;31mAttributeError\u001b[0m                            Traceback (most recent call last)",
      "Cell \u001b[1;32mIn[13], line 3\u001b[0m\n\u001b[0;32m      1\u001b[0m fig, axes \u001b[38;5;241m=\u001b[39m plt\u001b[38;5;241m.\u001b[39msubplots(\u001b[38;5;241m2\u001b[39m , \u001b[38;5;241m2\u001b[39m, figsize\u001b[38;5;241m=\u001b[39m(\u001b[38;5;241m10\u001b[39m, \u001b[38;5;241m10\u001b[39m))\n\u001b[0;32m      2\u001b[0m \u001b[38;5;28;01mfor\u001b[39;00m var, ax \u001b[38;5;129;01min\u001b[39;00m \u001b[38;5;28mzip\u001b[39m(dat\u001b[38;5;241m.\u001b[39mvariables, axes[\u001b[38;5;241m0\u001b[39m]):\n\u001b[1;32m----> 3\u001b[0m     gs\u001b[38;5;241m.\u001b[39mhistplt(dat[var], wt\u001b[38;5;241m=\u001b[39mdat[dat\u001b[38;5;241m.\u001b[39mwts], ax\u001b[38;5;241m=\u001b[39max, stat_blk\u001b[38;5;241m=\u001b[39m\u001b[38;5;124m'\u001b[39m\u001b[38;5;124mminimal\u001b[39m\u001b[38;5;124m'\u001b[39m)\n\u001b[0;32m      4\u001b[0m \u001b[38;5;28;01mfor\u001b[39;00m var, ax \u001b[38;5;129;01min\u001b[39;00m \u001b[38;5;28mzip\u001b[39m(dat_ns\u001b[38;5;241m.\u001b[39mvariables, axes[\u001b[38;5;241m1\u001b[39m]):\n\u001b[0;32m      5\u001b[0m     gs\u001b[38;5;241m.\u001b[39mhistplt(dat_ns, var\u001b[38;5;241m=\u001b[39mvar, wt\u001b[38;5;241m=\u001b[39m\u001b[38;5;28;01mTrue\u001b[39;00m, ax\u001b[38;5;241m=\u001b[39max, \n\u001b[0;32m      6\u001b[0m                xlim\u001b[38;5;241m=\u001b[39m(\u001b[38;5;241m-\u001b[39m\u001b[38;5;241m3\u001b[39m, \u001b[38;5;241m3\u001b[39m), stat_blk\u001b[38;5;241m=\u001b[39m\u001b[38;5;124m'\u001b[39m\u001b[38;5;124mminimal\u001b[39m\u001b[38;5;124m'\u001b[39m)  \n",
      "\u001b[1;31mAttributeError\u001b[0m: module 'pygeostat' has no attribute 'histplt'"
     ]
    }
   ],
   "source": [
    "fig, axes = plt.subplots(2 , 2, figsize=(10, 10))\n",
    "for var, ax in zip(dat.variables, axes[0]):\n",
    "    gs.histplt(dat[var], wt=dat[dat.wts], ax=ax, stat_blk='minimal')\n",
    "for var, ax in zip(dat_ns.variables, axes[1]):\n",
    "    gs.histplt(dat_ns, var=var, wt=True, ax=ax, \n",
    "               xlim=(-3, 3), stat_blk='minimal')  \n",
    "fig.tight_layout()"
   ]
  },
  {
   "cell_type": "markdown",
   "metadata": {},
   "source": [
    "## 4. Variogram Calculation and Modeling\n",
    "Normal score variograms are calculated and modeled, before being input to sequential Gaussian simulation in the next section.\n",
    "\n",
    "Please refer to the Boundary Modeling notebook for additional details about the Variogram object."
   ]
  },
  {
   "cell_type": "code",
   "execution_count": 14,
   "metadata": {
    "ExecuteTime": {
     "end_time": "2019-04-29T20:42:28.028192Z",
     "start_time": "2019-04-29T20:42:27.633422Z"
    }
   },
   "outputs": [
    {
     "ename": "NameError",
     "evalue": "name 'dat_ns' is not defined",
     "output_type": "error",
     "traceback": [
      "\u001b[1;31m---------------------------------------------------------------------------\u001b[0m",
      "\u001b[1;31mNameError\u001b[0m                                 Traceback (most recent call last)",
      "Cell \u001b[1;32mIn[14], line 5\u001b[0m\n\u001b[0;32m      3\u001b[0m \u001b[38;5;66;03m# Initialize a list that will store the variogram objects\u001b[39;00m\n\u001b[0;32m      4\u001b[0m vargs \u001b[38;5;241m=\u001b[39m []\n\u001b[1;32m----> 5\u001b[0m \u001b[38;5;28;01mfor\u001b[39;00m var, ax \u001b[38;5;129;01min\u001b[39;00m \u001b[38;5;28mzip\u001b[39m(dat_ns\u001b[38;5;241m.\u001b[39mvariables, axes):\n\u001b[0;32m      6\u001b[0m     varg \u001b[38;5;241m=\u001b[39m gs\u001b[38;5;241m.\u001b[39mVariogram(dat_ns, var, ndim\u001b[38;5;241m=\u001b[39m\u001b[38;5;241m2\u001b[39m, ndir\u001b[38;5;241m=\u001b[39m\u001b[38;5;241m1\u001b[39m, omnihz\u001b[38;5;241m=\u001b[39m\u001b[38;5;28;01mTrue\u001b[39;00m, \n\u001b[0;32m      7\u001b[0m                         mute\u001b[38;5;241m=\u001b[39m\u001b[38;5;28;01mTrue\u001b[39;00m)\n\u001b[0;32m      9\u001b[0m     \u001b[38;5;66;03m# Variogram calculation\u001b[39;00m\n",
      "\u001b[1;31mNameError\u001b[0m: name 'dat_ns' is not defined"
     ]
    }
   ],
   "source": [
    "fig, axes = plt.subplots(1, 2, figsize=(10, 4))\n",
    "\n",
    "# Initialize a list that will store the variogram objects\n",
    "vargs = []\n",
    "for var, ax in zip(dat_ns.variables, axes):\n",
    "    varg = gs.Variogram(dat_ns, var, ndim=2, ndir=1, omnihz=True, \n",
    "                        mute=True)\n",
    "    \n",
    "    # Variogram calculation\n",
    "    varg.update_calcpars(nlags=10, lagdist=30.0, lagtol=20.0, azm=0, \n",
    "                         azmtol=90, bandhorz=10000, variostd=True)\n",
    "    varg.varcalc()\n",
    "    \n",
    "    # Variogram modeling\n",
    "    varg.update_modelpars(c0=0.01, it=[3, 3], nst=2)\n",
    "    varg.fitmodel(maxiter=2500, sill=1.0)\n",
    "\n",
    "    # Variogram plotting\n",
    "    fig = varg.plot(model=True, titles=var, axes=ax, separate_plts=False)\n",
    "    \n",
    "    # Append in the list\n",
    "    vargs.append(varg)\n",
    "fig.tight_layout()"
   ]
  },
  {
   "cell_type": "markdown",
   "metadata": {},
   "source": [
    "## 5. Simulation and Back-transformation\n",
    "The Top Elevation and Thickness is simulated using sequential Gaussian simulation, before back-transforming to original units.\n",
    "\n",
    "### Sequential Gaussian Simulation"
   ]
  },
  {
   "cell_type": "code",
   "execution_count": 15,
   "metadata": {
    "ExecuteTime": {
     "end_time": "2019-04-29T20:42:28.205099Z",
     "start_time": "2019-04-29T20:42:28.029202Z"
    }
   },
   "outputs": [
    {
     "name": "stdout",
     "output_type": "stream",
     "text": [
      "C:\\Users\\boaky\\CCG\\PythonTest\\tmpmgiaawv5\\usgsim.par has been copied to the clipboard\n"
     ]
    }
   ],
   "source": [
    "simdir = outdir+'USGSIM/'\n",
    "gs.mkdir(simdir)\n",
    "usgsim = gs.Program(program=exedir+'usgsim', getpar=True)"
   ]
  },
  {
   "cell_type": "code",
   "execution_count": 16,
   "metadata": {
    "ExecuteTime": {
     "end_time": "2019-04-29T20:42:31.824923Z",
     "start_time": "2019-04-29T20:42:28.207098Z"
    }
   },
   "outputs": [
    {
     "ename": "NameError",
     "evalue": "name 'griddef' is not defined",
     "output_type": "error",
     "traceback": [
      "\u001b[1;31m---------------------------------------------------------------------------\u001b[0m",
      "\u001b[1;31mNameError\u001b[0m                                 Traceback (most recent call last)",
      "Cell \u001b[1;32mIn[16], line 38\u001b[0m\n\u001b[0;32m      1\u001b[0m parstr \u001b[38;5;241m=\u001b[39m \u001b[38;5;124m\"\"\"\u001b[39m\u001b[38;5;124m               Parameters for USGSIM\u001b[39m\n\u001b[0;32m      2\u001b[0m \u001b[38;5;124m                              *********************\u001b[39m\n\u001b[0;32m      3\u001b[0m \n\u001b[1;32m   (...)\u001b[0m\n\u001b[0;32m     36\u001b[0m \u001b[38;5;124m-8.0       1.0e21             -  trimming limits\u001b[39m\n\u001b[0;32m     37\u001b[0m \u001b[38;5;124m\"\"\"\u001b[39m\n\u001b[1;32m---> 38\u001b[0m pars \u001b[38;5;241m=\u001b[39m \u001b[38;5;28mdict\u001b[39m(griddef\u001b[38;5;241m=\u001b[39mgriddef, varmodel1\u001b[38;5;241m=\u001b[39mvargs[\u001b[38;5;241m0\u001b[39m]\u001b[38;5;241m.\u001b[39mmodel, varmodel2\u001b[38;5;241m=\u001b[39mvargs[\u001b[38;5;241m1\u001b[39m]\u001b[38;5;241m.\u001b[39mmodel,\n\u001b[0;32m     39\u001b[0m             datafl\u001b[38;5;241m=\u001b[39mdat_ns\u001b[38;5;241m.\u001b[39mflname, xyzcols\u001b[38;5;241m=\u001b[39mdat_ns\u001b[38;5;241m.\u001b[39mgscol(dat_ns\u001b[38;5;241m.\u001b[39mxyz),\n\u001b[0;32m     40\u001b[0m             varcols\u001b[38;5;241m=\u001b[39mdat_ns\u001b[38;5;241m.\u001b[39mgscol(dat_ns\u001b[38;5;241m.\u001b[39mvariables)) \n\u001b[0;32m     41\u001b[0m callpars \u001b[38;5;241m=\u001b[39m []\n\u001b[0;32m     42\u001b[0m seeds \u001b[38;5;241m=\u001b[39m gs\u001b[38;5;241m.\u001b[39mrseed_list(nreal, seed\u001b[38;5;241m=\u001b[39m\u001b[38;5;241m23243\u001b[39m)\n",
      "\u001b[1;31mNameError\u001b[0m: name 'griddef' is not defined"
     ]
    }
   ],
   "source": [
    "parstr = \"\"\"               Parameters for USGSIM\n",
    "                              *********************\n",
    "\n",
    "START OF MAIN:\n",
    "1                             -number of realizations to generate, 0=kriging\n",
    "2                             -number of variables being simulated\n",
    "0                             -number of rock types to consider\n",
    "{seed}                        -random number seed\n",
    "{griddef}\n",
    "{outfl}                       -file for simulation output\n",
    "2                             -  output format: (0=reg, 1=coord, 2=binary)\n",
    "impute.out                    -file for imputed values in case of heterotopic samples\n",
    "0                             -debugging level: 0,1,2,3\n",
    "sgsim.dbg                     -file for debugging output \n",
    "\n",
    "START OF SRCH:\n",
    "25                            -number of data to use per variable\n",
    "300 300   10                  -maximum search radii (hmax,hmin,vert)\n",
    "0 0 0                         -angles for search ellipsoid\n",
    "1                             -sort by distance (0) or covariance (1)\n",
    "0 1 1                         -if sorting by covariance, indicate variogram rock type, head, tail to use\n",
    "\n",
    "START OF VARG:\n",
    "2                             -number of variograms\n",
    "0  1  1                       -rock type, variable 1, variable 2\n",
    "{varmodel1}\n",
    "0  2  2                       -rock type, variable 1, variable 2\n",
    "{varmodel2}\n",
    "\n",
    "START OF DATA:\n",
    "{datafl}                      -file with primary data\n",
    "{xyzcols}  0  0  0             -  columns for X,Y,Z,wt,rock type\n",
    "{varcols}                     -  columns for variables\n",
    "1                             -  clip data to grid, 1=yes\n",
    "1                             -  assign to the grid, 0=none, 1=nearest, 2=average\n",
    "-8.0       1.0e21             -  trimming limits\n",
    "\"\"\"\n",
    "pars = dict(griddef=griddef, varmodel1=vargs[0].model, varmodel2=vargs[1].model,\n",
    "            datafl=dat_ns.flname, xyzcols=dat_ns.gscol(dat_ns.xyz),\n",
    "            varcols=dat_ns.gscol(dat_ns.variables)) \n",
    "callpars = []\n",
    "seeds = gs.rseed_list(nreal, seed=23243)\n",
    "for i, seed in enumerate(seeds):\n",
    "    pars['seed'] = seed\n",
    "    pars['outfl'] = outfl=simdir+'real{}.gsb'.format(i+1)\n",
    "    callpars.append(dict(parstr=parstr.format(**pars)))\n",
    "gs.runparallel(usgsim, callpars, nprocess=4, reportprogress=True)"
   ]
  },
  {
   "cell_type": "markdown",
   "metadata": {},
   "source": [
    "### Inspect a Gaussian realization\n",
    "This step is not strictly required, but is presented for demonstration."
   ]
  },
  {
   "cell_type": "code",
   "execution_count": 17,
   "metadata": {
    "ExecuteTime": {
     "end_time": "2019-04-29T20:42:31.958846Z",
     "start_time": "2019-04-29T20:42:31.828922Z"
    }
   },
   "outputs": [
    {
     "ename": "FileNotFoundError",
     "evalue": "Output/USGSIM/real1.gsb does not exist!",
     "output_type": "error",
     "traceback": [
      "\u001b[1;31m---------------------------------------------------------------------------\u001b[0m",
      "\u001b[1;31mFileNotFoundError\u001b[0m                         Traceback (most recent call last)",
      "File \u001b[1;32m~\\anaconda3\\Lib\\site-packages\\pygeostat\\data\\iotools.py:111\u001b[0m, in \u001b[0;36m_test_file_open\u001b[1;34m(filename)\u001b[0m\n\u001b[0;32m    110\u001b[0m \u001b[38;5;28;01mtry\u001b[39;00m:\n\u001b[1;32m--> 111\u001b[0m     \u001b[38;5;28;01mwith\u001b[39;00m \u001b[38;5;28mopen\u001b[39m(filename, \u001b[38;5;124m'\u001b[39m\u001b[38;5;124mr\u001b[39m\u001b[38;5;124m'\u001b[39m):\n\u001b[0;32m    112\u001b[0m         \u001b[38;5;28;01mpass\u001b[39;00m\n",
      "\u001b[1;31mFileNotFoundError\u001b[0m: [Errno 2] No such file or directory: 'Output/USGSIM/real1.gsb'",
      "\nDuring handling of the above exception, another exception occurred:\n",
      "\u001b[1;31mFileNotFoundError\u001b[0m                         Traceback (most recent call last)",
      "Cell \u001b[1;32mIn[17], line 2\u001b[0m\n\u001b[0;32m      1\u001b[0m \u001b[38;5;66;03m# Read in the simulation to inspect\u001b[39;00m\n\u001b[1;32m----> 2\u001b[0m sim \u001b[38;5;241m=\u001b[39m gs\u001b[38;5;241m.\u001b[39mDataFile(simdir\u001b[38;5;241m+\u001b[39m\u001b[38;5;124m'\u001b[39m\u001b[38;5;124mreal1.gsb\u001b[39m\u001b[38;5;124m'\u001b[39m)\n\u001b[0;32m      4\u001b[0m \u001b[38;5;66;03m# Rename the simulation columns\u001b[39;00m\n\u001b[0;32m      5\u001b[0m sim\u001b[38;5;241m.\u001b[39mcolumns\u001b[38;5;241m=\u001b[39mdat_ns\u001b[38;5;241m.\u001b[39mvariables\n",
      "File \u001b[1;32m~\\anaconda3\\Lib\\site-packages\\pygeostat\\data\\data.py:205\u001b[0m, in \u001b[0;36mDataFile.__init__\u001b[1;34m(self, flname, readfl, fltype, dftype, data, columns, null, title, griddef, dh, x, y, z, ifrom, ito, weights, cat, catdict, variables, notvariables, delimiter, headeronly, h5path, h5datasets, nreals, tmin)\u001b[0m\n\u001b[0;32m    203\u001b[0m \t\t\u001b[38;5;28mself\u001b[39m\u001b[38;5;241m.\u001b[39mstore \u001b[38;5;241m=\u001b[39m H5Store(flname)\n\u001b[0;32m    204\u001b[0m \t\u001b[38;5;66;03m# read the file and import data and/or header\u001b[39;00m\n\u001b[1;32m--> 205\u001b[0m \t\u001b[38;5;28mself\u001b[39m\u001b[38;5;241m.\u001b[39mdata \u001b[38;5;241m=\u001b[39m read_file(\u001b[38;5;28mself\u001b[39m\u001b[38;5;241m.\u001b[39mflname, fltype\u001b[38;5;241m=\u001b[39mfltype, headeronly\u001b[38;5;241m=\u001b[39mheaderonly,\n\u001b[0;32m    206\u001b[0m \t\t\t\t\t\t delimiter\u001b[38;5;241m=\u001b[39mdelimiter, h5path\u001b[38;5;241m=\u001b[39mh5path, h5datasets\u001b[38;5;241m=\u001b[39mh5datasets,\n\u001b[0;32m    207\u001b[0m \t\t\t\t\t\t columns\u001b[38;5;241m=\u001b[39mcolumns, griddef\u001b[38;5;241m=\u001b[39m\u001b[38;5;28mself\u001b[39m\u001b[38;5;241m.\u001b[39mgriddef, ireal\u001b[38;5;241m=\u001b[39mnreals, tmin\u001b[38;5;241m=\u001b[39mtmin)\n\u001b[0;32m    208\u001b[0m \u001b[38;5;66;03m# Try and coerce data into a pandas dataframe if it is not already\u001b[39;00m\n\u001b[0;32m    209\u001b[0m \u001b[38;5;28;01mif\u001b[39;00m (data \u001b[38;5;129;01mis\u001b[39;00m \u001b[38;5;129;01mnot\u001b[39;00m \u001b[38;5;28;01mNone\u001b[39;00m) \u001b[38;5;129;01mand\u001b[39;00m (\u001b[38;5;129;01mnot\u001b[39;00m \u001b[38;5;28misinstance\u001b[39m(data, pd\u001b[38;5;241m.\u001b[39mDataFrame)):\n",
      "File \u001b[1;32m~\\anaconda3\\Lib\\site-packages\\pygeostat\\data\\iotools.py:98\u001b[0m, in \u001b[0;36mread_file\u001b[1;34m(flname, fltype, headeronly, delimiter, h5path, h5datasets, columns, ireal, griddef, tmin)\u001b[0m\n\u001b[0;32m     96\u001b[0m         data \u001b[38;5;241m=\u001b[39m read_h5(flname\u001b[38;5;241m=\u001b[39mflname, h5path\u001b[38;5;241m=\u001b[39mh5path, datasets\u001b[38;5;241m=\u001b[39mh5datasets)\n\u001b[0;32m     97\u001b[0m \u001b[38;5;28;01melif\u001b[39;00m fltype \u001b[38;5;241m==\u001b[39m \u001b[38;5;124m'\u001b[39m\u001b[38;5;124mgsb\u001b[39m\u001b[38;5;124m'\u001b[39m:\n\u001b[1;32m---> 98\u001b[0m     data \u001b[38;5;241m=\u001b[39m read_gsb(flname\u001b[38;5;241m=\u001b[39mflname, ireal\u001b[38;5;241m=\u001b[39mireal, tmin\u001b[38;5;241m=\u001b[39mtmin)\n\u001b[0;32m     99\u001b[0m \u001b[38;5;28;01melse\u001b[39;00m:\n\u001b[0;32m    100\u001b[0m     \u001b[38;5;28mprint\u001b[39m(\u001b[38;5;124m'\u001b[39m\u001b[38;5;124mFile type unsupported! Try \u001b[39m\u001b[38;5;124m\"\u001b[39m\u001b[38;5;124mgslib\u001b[39m\u001b[38;5;124m\"\u001b[39m\u001b[38;5;124m, \u001b[39m\u001b[38;5;124m\"\u001b[39m\u001b[38;5;124mcsv\u001b[39m\u001b[38;5;124m\"\u001b[39m\u001b[38;5;124m or \u001b[39m\u001b[38;5;124m\"\u001b[39m\u001b[38;5;124mhdf5\u001b[39m\u001b[38;5;124m\"\u001b[39m\u001b[38;5;124m'\u001b[39m)\n",
      "File \u001b[1;32m~\\anaconda3\\Lib\\site-packages\\pygeostat\\data\\iotools.py:290\u001b[0m, in \u001b[0;36mread_gsb\u001b[1;34m(flname, ireal, tmin, null)\u001b[0m\n\u001b[0;32m    288\u001b[0m pygsb \u001b[38;5;241m=\u001b[39m compile_pygsb()\n\u001b[0;32m    289\u001b[0m \u001b[38;5;66;03m# Can the file be opened?\u001b[39;00m\n\u001b[1;32m--> 290\u001b[0m _test_file_open(flname)\n\u001b[0;32m    292\u001b[0m \u001b[38;5;28;01mif\u001b[39;00m \u001b[38;5;129;01mnot\u001b[39;00m isbinary(flname):\n\u001b[0;32m    293\u001b[0m     \u001b[38;5;28;01mraise\u001b[39;00m \u001b[38;5;167;01mValueError\u001b[39;00m(\u001b[38;5;124m'\u001b[39m\u001b[38;5;124mThe file \u001b[39m\u001b[38;5;132;01m%s\u001b[39;00m\u001b[38;5;124m appears to be non-binary formatted \u001b[39m\u001b[38;5;124m'\u001b[39m \u001b[38;5;241m%\u001b[39m flname)\n",
      "File \u001b[1;32m~\\anaconda3\\Lib\\site-packages\\pygeostat\\data\\iotools.py:114\u001b[0m, in \u001b[0;36m_test_file_open\u001b[1;34m(filename)\u001b[0m\n\u001b[0;32m    112\u001b[0m         \u001b[38;5;28;01mpass\u001b[39;00m\n\u001b[0;32m    113\u001b[0m \u001b[38;5;28;01mexcept\u001b[39;00m \u001b[38;5;167;01mFileNotFoundError\u001b[39;00m:\n\u001b[1;32m--> 114\u001b[0m     \u001b[38;5;28;01mraise\u001b[39;00m \u001b[38;5;167;01mFileNotFoundError\u001b[39;00m(\u001b[38;5;124m'\u001b[39m\u001b[38;5;132;01m{}\u001b[39;00m\u001b[38;5;124m does not exist!\u001b[39m\u001b[38;5;124m'\u001b[39m\u001b[38;5;241m.\u001b[39mformat(filename))\n\u001b[0;32m    115\u001b[0m \u001b[38;5;28;01mexcept\u001b[39;00m \u001b[38;5;167;01mIOError\u001b[39;00m:\n\u001b[0;32m    116\u001b[0m     \u001b[38;5;28;01mraise\u001b[39;00m \u001b[38;5;167;01mIOError\u001b[39;00m(\u001b[38;5;124m'\u001b[39m\u001b[38;5;124mCould not open \u001b[39m\u001b[38;5;132;01m{}\u001b[39;00m\u001b[38;5;124m'\u001b[39m\u001b[38;5;241m.\u001b[39mformat(filename))\n",
      "\u001b[1;31mFileNotFoundError\u001b[0m: Output/USGSIM/real1.gsb does not exist!"
     ]
    }
   ],
   "source": [
    "# Read in the simulation to inspect\n",
    "sim = gs.DataFile(simdir+'real1.gsb')\n",
    "\n",
    "# Rename the simulation columns\n",
    "sim.columns=dat_ns.variables\n",
    "\n",
    "# Summary statistics\n",
    "print('\\nProperties of the realization:\\n', sim.describe())"
   ]
  },
  {
   "cell_type": "code",
   "execution_count": 18,
   "metadata": {
    "ExecuteTime": {
     "end_time": "2019-04-29T20:42:32.495453Z",
     "start_time": "2019-04-29T20:42:31.960844Z"
    }
   },
   "outputs": [
    {
     "ename": "NameError",
     "evalue": "name 'dat_ns' is not defined",
     "output_type": "error",
     "traceback": [
      "\u001b[1;31m---------------------------------------------------------------------------\u001b[0m",
      "\u001b[1;31mNameError\u001b[0m                                 Traceback (most recent call last)",
      "Cell \u001b[1;32mIn[18], line 4\u001b[0m\n\u001b[0;32m      1\u001b[0m \u001b[38;5;66;03m# The gs.subplots is useful when multiple panels are plotted that \u001b[39;00m\n\u001b[0;32m      2\u001b[0m \u001b[38;5;66;03m# should use the same colorbar\u001b[39;00m\n\u001b[0;32m      3\u001b[0m fig, axes \u001b[38;5;241m=\u001b[39m gs\u001b[38;5;241m.\u001b[39msubplots(\u001b[38;5;241m1\u001b[39m, \u001b[38;5;241m2\u001b[39m, figsize\u001b[38;5;241m=\u001b[39m(\u001b[38;5;241m10\u001b[39m, \u001b[38;5;241m10\u001b[39m), cbar_mode\u001b[38;5;241m=\u001b[39m\u001b[38;5;124m'\u001b[39m\u001b[38;5;124msingle\u001b[39m\u001b[38;5;124m'\u001b[39m)\n\u001b[1;32m----> 4\u001b[0m \u001b[38;5;28;01mfor\u001b[39;00m var, ax \u001b[38;5;129;01min\u001b[39;00m \u001b[38;5;28mzip\u001b[39m(dat_ns\u001b[38;5;241m.\u001b[39mvariables, axes):\n\u001b[0;32m      5\u001b[0m     gs\u001b[38;5;241m.\u001b[39mpixelplt(sim, var\u001b[38;5;241m=\u001b[39mvar, vlim\u001b[38;5;241m=\u001b[39m(\u001b[38;5;241m-\u001b[39m\u001b[38;5;241m3\u001b[39m, \u001b[38;5;241m3\u001b[39m), title\u001b[38;5;241m=\u001b[39mvar\u001b[38;5;241m+\u001b[39m\u001b[38;5;124m'\u001b[39m\u001b[38;5;124m Realization\u001b[39m\u001b[38;5;124m'\u001b[39m, ax\u001b[38;5;241m=\u001b[39max)\n",
      "\u001b[1;31mNameError\u001b[0m: name 'dat_ns' is not defined"
     ]
    }
   ],
   "source": [
    "# The gs.subplots is useful when multiple panels are plotted that \n",
    "# should use the same colorbar\n",
    "fig, axes = gs.subplots(1, 2, figsize=(10, 10), cbar_mode='single')\n",
    "for var, ax in zip(dat_ns.variables, axes):\n",
    "    gs.pixelplt(sim, var=var, vlim=(-3, 3), title=var+' Realization', ax=ax)"
   ]
  },
  {
   "cell_type": "markdown",
   "metadata": {},
   "source": [
    "### Back-transformation\n",
    "Note that ubacktr program only requires a prefix of the transformation table, before it infers the file name based on the number of variables and categories."
   ]
  },
  {
   "cell_type": "code",
   "execution_count": 19,
   "metadata": {
    "ExecuteTime": {
     "end_time": "2019-04-29T20:42:32.664817Z",
     "start_time": "2019-04-29T20:42:32.496451Z"
    }
   },
   "outputs": [
    {
     "name": "stdout",
     "output_type": "stream",
     "text": [
      "C:\\Users\\boaky\\CCG\\PythonTest\\tmpev8pun3m\\ubacktr.par has been copied to the clipboard\n"
     ]
    }
   ],
   "source": [
    "backdir = outdir+'UBACKTR/'\n",
    "gs.mkdir(backdir)\n",
    "ubacktr = gs.Program(program=exedir+'ubacktr', getpar=True)"
   ]
  },
  {
   "cell_type": "code",
   "execution_count": 20,
   "metadata": {
    "ExecuteTime": {
     "end_time": "2019-04-29T20:42:35.909427Z",
     "start_time": "2019-04-29T20:42:32.665816Z"
    },
    "code_folding": []
   },
   "outputs": [
    {
     "ename": "NameError",
     "evalue": "name 'nreal' is not defined",
     "output_type": "error",
     "traceback": [
      "\u001b[1;31m---------------------------------------------------------------------------\u001b[0m",
      "\u001b[1;31mNameError\u001b[0m                                 Traceback (most recent call last)",
      "Cell \u001b[1;32mIn[20], line 19\u001b[0m\n\u001b[0;32m      1\u001b[0m parstr \u001b[38;5;241m=\u001b[39m \u001b[38;5;124m\"\"\"\u001b[39m\u001b[38;5;124m                  Parameters for UBACKTR\u001b[39m\n\u001b[0;32m      2\u001b[0m \u001b[38;5;124m                  **********************\u001b[39m\n\u001b[0;32m      3\u001b[0m \u001b[38;5;124m \u001b[39m\n\u001b[1;32m   (...)\u001b[0m\n\u001b[0;32m     16\u001b[0m \u001b[38;5;132;01m{outfl}\u001b[39;00m\u001b[38;5;124m                     -output file (see Note6)\u001b[39m\n\u001b[0;32m     17\u001b[0m \u001b[38;5;124m\"\"\"\u001b[39m\n\u001b[0;32m     18\u001b[0m callpars \u001b[38;5;241m=\u001b[39m []\n\u001b[1;32m---> 19\u001b[0m \u001b[38;5;28;01mfor\u001b[39;00m i \u001b[38;5;129;01min\u001b[39;00m \u001b[38;5;28mrange\u001b[39m(nreal):\n\u001b[0;32m     20\u001b[0m     mypars \u001b[38;5;241m=\u001b[39m \u001b[38;5;28mdict\u001b[39m(datafl\u001b[38;5;241m=\u001b[39msimdir\u001b[38;5;241m+\u001b[39m\u001b[38;5;124m'\u001b[39m\u001b[38;5;124mreal\u001b[39m\u001b[38;5;132;01m{}\u001b[39;00m\u001b[38;5;124m.gsb\u001b[39m\u001b[38;5;124m'\u001b[39m\u001b[38;5;241m.\u001b[39mformat(i\u001b[38;5;241m+\u001b[39m\u001b[38;5;241m1\u001b[39m),\n\u001b[0;32m     21\u001b[0m                   nx\u001b[38;5;241m=\u001b[39mgriddef\u001b[38;5;241m.\u001b[39mnx,\n\u001b[0;32m     22\u001b[0m                   ny\u001b[38;5;241m=\u001b[39mgriddef\u001b[38;5;241m.\u001b[39mny,\n\u001b[0;32m     23\u001b[0m                   trnfl\u001b[38;5;241m=\u001b[39moutdir\u001b[38;5;241m+\u001b[39m\u001b[38;5;124m'\u001b[39m\u001b[38;5;124mnscore\u001b[39m\u001b[38;5;124m'\u001b[39m,\n\u001b[0;32m     24\u001b[0m                   outfl\u001b[38;5;241m=\u001b[39mbackdir\u001b[38;5;241m+\u001b[39m\u001b[38;5;124m'\u001b[39m\u001b[38;5;124mreal\u001b[39m\u001b[38;5;132;01m{}\u001b[39;00m\u001b[38;5;124m.gsb\u001b[39m\u001b[38;5;124m'\u001b[39m\u001b[38;5;241m.\u001b[39mformat(i\u001b[38;5;241m+\u001b[39m\u001b[38;5;241m1\u001b[39m))\n\u001b[0;32m     25\u001b[0m     callpars\u001b[38;5;241m.\u001b[39mappend(\u001b[38;5;28mdict\u001b[39m(parstr\u001b[38;5;241m=\u001b[39mparstr\u001b[38;5;241m.\u001b[39mformat(\u001b[38;5;241m*\u001b[39m\u001b[38;5;241m*\u001b[39mmypars)))\n",
      "\u001b[1;31mNameError\u001b[0m: name 'nreal' is not defined"
     ]
    }
   ],
   "source": [
    "parstr = \"\"\"                  Parameters for UBACKTR\n",
    "                  **********************\n",
    " \n",
    "START OF PARAMETERS: \n",
    "{datafl}                    -file with simulated Gaussian variables (see Note6)\n",
    "-7.0 1.0e21                 -  trimming limits\n",
    "2                           -  number of variables\n",
    "1 2                         -  columns for variables\n",
    "0                           -number of rocktypes (NRT) (0 if none)\n",
    "nofile.out                  -  file for simulated RTs (see Note1 and Note6)\n",
    "5                           -  column for RT \n",
    "31 32 34 35 36 37           -  RT category codes (see Note2)\n",
    "{nx} {ny} 1                 -nx, ny, nz (0=calculated)(see Note3)\n",
    "1                           -number of realizations\n",
    "{trnfl}                     -prefix for trans tables (see Note4 and Note7)\n",
    "{outfl}                     -output file (see Note6)\n",
    "\"\"\"\n",
    "callpars = []\n",
    "for i in range(nreal):\n",
    "    mypars = dict(datafl=simdir+'real{}.gsb'.format(i+1),\n",
    "                  nx=griddef.nx,\n",
    "                  ny=griddef.ny,\n",
    "                  trnfl=outdir+'nscore',\n",
    "                  outfl=backdir+'real{}.gsb'.format(i+1))\n",
    "    callpars.append(dict(parstr=parstr.format(**mypars)))\n",
    "gs.runparallel(ubacktr, callpars)\n",
    "\n",
    "# Remove the Gaussian realizations since they're no longer needed\n",
    "gs.rmdir(simdir)"
   ]
  },
  {
   "cell_type": "markdown",
   "metadata": {},
   "source": [
    "### Realization maps\n",
    "Generate a figure for each variable, where a single color bar is used for multiple realizations."
   ]
  },
  {
   "cell_type": "code",
   "execution_count": 21,
   "metadata": {
    "ExecuteTime": {
     "end_time": "2019-04-29T20:42:37.763814Z",
     "start_time": "2019-04-29T20:42:35.910427Z"
    }
   },
   "outputs": [
    {
     "ename": "FileNotFoundError",
     "evalue": "Output/UBACKTR/real1.gsb does not exist!",
     "output_type": "error",
     "traceback": [
      "\u001b[1;31m---------------------------------------------------------------------------\u001b[0m",
      "\u001b[1;31mFileNotFoundError\u001b[0m                         Traceback (most recent call last)",
      "File \u001b[1;32m~\\anaconda3\\Lib\\site-packages\\pygeostat\\data\\iotools.py:111\u001b[0m, in \u001b[0;36m_test_file_open\u001b[1;34m(filename)\u001b[0m\n\u001b[0;32m    110\u001b[0m \u001b[38;5;28;01mtry\u001b[39;00m:\n\u001b[1;32m--> 111\u001b[0m     \u001b[38;5;28;01mwith\u001b[39;00m \u001b[38;5;28mopen\u001b[39m(filename, \u001b[38;5;124m'\u001b[39m\u001b[38;5;124mr\u001b[39m\u001b[38;5;124m'\u001b[39m):\n\u001b[0;32m    112\u001b[0m         \u001b[38;5;28;01mpass\u001b[39;00m\n",
      "\u001b[1;31mFileNotFoundError\u001b[0m: [Errno 2] No such file or directory: 'Output/UBACKTR/real1.gsb'",
      "\nDuring handling of the above exception, another exception occurred:\n",
      "\u001b[1;31mFileNotFoundError\u001b[0m                         Traceback (most recent call last)",
      "Cell \u001b[1;32mIn[21], line 4\u001b[0m\n\u001b[0;32m      2\u001b[0m fig, axes \u001b[38;5;241m=\u001b[39m gs\u001b[38;5;241m.\u001b[39msubplots(\u001b[38;5;241m2\u001b[39m, \u001b[38;5;241m2\u001b[39m, figsize\u001b[38;5;241m=\u001b[39m(\u001b[38;5;241m10\u001b[39m, \u001b[38;5;241m8\u001b[39m), cbar_mode\u001b[38;5;241m=\u001b[39m\u001b[38;5;124m'\u001b[39m\u001b[38;5;124msingle\u001b[39m\u001b[38;5;124m'\u001b[39m)\n\u001b[0;32m      3\u001b[0m \u001b[38;5;28;01mfor\u001b[39;00m real, ax \u001b[38;5;129;01min\u001b[39;00m \u001b[38;5;28menumerate\u001b[39m(axes):\n\u001b[1;32m----> 4\u001b[0m     sim \u001b[38;5;241m=\u001b[39m gs\u001b[38;5;241m.\u001b[39mDataFile(backdir\u001b[38;5;241m+\u001b[39m\u001b[38;5;124m'\u001b[39m\u001b[38;5;124mreal\u001b[39m\u001b[38;5;132;01m{}\u001b[39;00m\u001b[38;5;124m.gsb\u001b[39m\u001b[38;5;124m'\u001b[39m\u001b[38;5;241m.\u001b[39mformat(real\u001b[38;5;241m+\u001b[39m\u001b[38;5;241m1\u001b[39m))\n\u001b[0;32m      5\u001b[0m     sim\u001b[38;5;241m.\u001b[39mcolumns \u001b[38;5;241m=\u001b[39m dat\u001b[38;5;241m.\u001b[39mvariables\n\u001b[0;32m      6\u001b[0m     gs\u001b[38;5;241m.\u001b[39mpixelplt(sim, var\u001b[38;5;241m=\u001b[39mvar, title\u001b[38;5;241m=\u001b[39m\u001b[38;5;124m'\u001b[39m\u001b[38;5;124mRealization \u001b[39m\u001b[38;5;132;01m{}\u001b[39;00m\u001b[38;5;124m'\u001b[39m\u001b[38;5;241m.\u001b[39mformat(real\u001b[38;5;241m+\u001b[39m\u001b[38;5;241m1\u001b[39m),\n\u001b[0;32m      7\u001b[0m                 pointdata\u001b[38;5;241m=\u001b[39mdat, cbar_label\u001b[38;5;241m=\u001b[39m\u001b[38;5;124m'\u001b[39m\u001b[38;5;124mm\u001b[39m\u001b[38;5;124m'\u001b[39m, ax\u001b[38;5;241m=\u001b[39max)\n",
      "File \u001b[1;32m~\\anaconda3\\Lib\\site-packages\\pygeostat\\data\\data.py:205\u001b[0m, in \u001b[0;36mDataFile.__init__\u001b[1;34m(self, flname, readfl, fltype, dftype, data, columns, null, title, griddef, dh, x, y, z, ifrom, ito, weights, cat, catdict, variables, notvariables, delimiter, headeronly, h5path, h5datasets, nreals, tmin)\u001b[0m\n\u001b[0;32m    203\u001b[0m \t\t\u001b[38;5;28mself\u001b[39m\u001b[38;5;241m.\u001b[39mstore \u001b[38;5;241m=\u001b[39m H5Store(flname)\n\u001b[0;32m    204\u001b[0m \t\u001b[38;5;66;03m# read the file and import data and/or header\u001b[39;00m\n\u001b[1;32m--> 205\u001b[0m \t\u001b[38;5;28mself\u001b[39m\u001b[38;5;241m.\u001b[39mdata \u001b[38;5;241m=\u001b[39m read_file(\u001b[38;5;28mself\u001b[39m\u001b[38;5;241m.\u001b[39mflname, fltype\u001b[38;5;241m=\u001b[39mfltype, headeronly\u001b[38;5;241m=\u001b[39mheaderonly,\n\u001b[0;32m    206\u001b[0m \t\t\t\t\t\t delimiter\u001b[38;5;241m=\u001b[39mdelimiter, h5path\u001b[38;5;241m=\u001b[39mh5path, h5datasets\u001b[38;5;241m=\u001b[39mh5datasets,\n\u001b[0;32m    207\u001b[0m \t\t\t\t\t\t columns\u001b[38;5;241m=\u001b[39mcolumns, griddef\u001b[38;5;241m=\u001b[39m\u001b[38;5;28mself\u001b[39m\u001b[38;5;241m.\u001b[39mgriddef, ireal\u001b[38;5;241m=\u001b[39mnreals, tmin\u001b[38;5;241m=\u001b[39mtmin)\n\u001b[0;32m    208\u001b[0m \u001b[38;5;66;03m# Try and coerce data into a pandas dataframe if it is not already\u001b[39;00m\n\u001b[0;32m    209\u001b[0m \u001b[38;5;28;01mif\u001b[39;00m (data \u001b[38;5;129;01mis\u001b[39;00m \u001b[38;5;129;01mnot\u001b[39;00m \u001b[38;5;28;01mNone\u001b[39;00m) \u001b[38;5;129;01mand\u001b[39;00m (\u001b[38;5;129;01mnot\u001b[39;00m \u001b[38;5;28misinstance\u001b[39m(data, pd\u001b[38;5;241m.\u001b[39mDataFrame)):\n",
      "File \u001b[1;32m~\\anaconda3\\Lib\\site-packages\\pygeostat\\data\\iotools.py:98\u001b[0m, in \u001b[0;36mread_file\u001b[1;34m(flname, fltype, headeronly, delimiter, h5path, h5datasets, columns, ireal, griddef, tmin)\u001b[0m\n\u001b[0;32m     96\u001b[0m         data \u001b[38;5;241m=\u001b[39m read_h5(flname\u001b[38;5;241m=\u001b[39mflname, h5path\u001b[38;5;241m=\u001b[39mh5path, datasets\u001b[38;5;241m=\u001b[39mh5datasets)\n\u001b[0;32m     97\u001b[0m \u001b[38;5;28;01melif\u001b[39;00m fltype \u001b[38;5;241m==\u001b[39m \u001b[38;5;124m'\u001b[39m\u001b[38;5;124mgsb\u001b[39m\u001b[38;5;124m'\u001b[39m:\n\u001b[1;32m---> 98\u001b[0m     data \u001b[38;5;241m=\u001b[39m read_gsb(flname\u001b[38;5;241m=\u001b[39mflname, ireal\u001b[38;5;241m=\u001b[39mireal, tmin\u001b[38;5;241m=\u001b[39mtmin)\n\u001b[0;32m     99\u001b[0m \u001b[38;5;28;01melse\u001b[39;00m:\n\u001b[0;32m    100\u001b[0m     \u001b[38;5;28mprint\u001b[39m(\u001b[38;5;124m'\u001b[39m\u001b[38;5;124mFile type unsupported! Try \u001b[39m\u001b[38;5;124m\"\u001b[39m\u001b[38;5;124mgslib\u001b[39m\u001b[38;5;124m\"\u001b[39m\u001b[38;5;124m, \u001b[39m\u001b[38;5;124m\"\u001b[39m\u001b[38;5;124mcsv\u001b[39m\u001b[38;5;124m\"\u001b[39m\u001b[38;5;124m or \u001b[39m\u001b[38;5;124m\"\u001b[39m\u001b[38;5;124mhdf5\u001b[39m\u001b[38;5;124m\"\u001b[39m\u001b[38;5;124m'\u001b[39m)\n",
      "File \u001b[1;32m~\\anaconda3\\Lib\\site-packages\\pygeostat\\data\\iotools.py:290\u001b[0m, in \u001b[0;36mread_gsb\u001b[1;34m(flname, ireal, tmin, null)\u001b[0m\n\u001b[0;32m    288\u001b[0m pygsb \u001b[38;5;241m=\u001b[39m compile_pygsb()\n\u001b[0;32m    289\u001b[0m \u001b[38;5;66;03m# Can the file be opened?\u001b[39;00m\n\u001b[1;32m--> 290\u001b[0m _test_file_open(flname)\n\u001b[0;32m    292\u001b[0m \u001b[38;5;28;01mif\u001b[39;00m \u001b[38;5;129;01mnot\u001b[39;00m isbinary(flname):\n\u001b[0;32m    293\u001b[0m     \u001b[38;5;28;01mraise\u001b[39;00m \u001b[38;5;167;01mValueError\u001b[39;00m(\u001b[38;5;124m'\u001b[39m\u001b[38;5;124mThe file \u001b[39m\u001b[38;5;132;01m%s\u001b[39;00m\u001b[38;5;124m appears to be non-binary formatted \u001b[39m\u001b[38;5;124m'\u001b[39m \u001b[38;5;241m%\u001b[39m flname)\n",
      "File \u001b[1;32m~\\anaconda3\\Lib\\site-packages\\pygeostat\\data\\iotools.py:114\u001b[0m, in \u001b[0;36m_test_file_open\u001b[1;34m(filename)\u001b[0m\n\u001b[0;32m    112\u001b[0m         \u001b[38;5;28;01mpass\u001b[39;00m\n\u001b[0;32m    113\u001b[0m \u001b[38;5;28;01mexcept\u001b[39;00m \u001b[38;5;167;01mFileNotFoundError\u001b[39;00m:\n\u001b[1;32m--> 114\u001b[0m     \u001b[38;5;28;01mraise\u001b[39;00m \u001b[38;5;167;01mFileNotFoundError\u001b[39;00m(\u001b[38;5;124m'\u001b[39m\u001b[38;5;132;01m{}\u001b[39;00m\u001b[38;5;124m does not exist!\u001b[39m\u001b[38;5;124m'\u001b[39m\u001b[38;5;241m.\u001b[39mformat(filename))\n\u001b[0;32m    115\u001b[0m \u001b[38;5;28;01mexcept\u001b[39;00m \u001b[38;5;167;01mIOError\u001b[39;00m:\n\u001b[0;32m    116\u001b[0m     \u001b[38;5;28;01mraise\u001b[39;00m \u001b[38;5;167;01mIOError\u001b[39;00m(\u001b[38;5;124m'\u001b[39m\u001b[38;5;124mCould not open \u001b[39m\u001b[38;5;132;01m{}\u001b[39;00m\u001b[38;5;124m'\u001b[39m\u001b[38;5;241m.\u001b[39mformat(filename))\n",
      "\u001b[1;31mFileNotFoundError\u001b[0m: Output/UBACKTR/real1.gsb does not exist!"
     ]
    }
   ],
   "source": [
    "for var in dat.variables:\n",
    "    fig, axes = gs.subplots(2, 2, figsize=(10, 8), cbar_mode='single')\n",
    "    for real, ax in enumerate(axes):\n",
    "        sim = gs.DataFile(backdir+'real{}.gsb'.format(real+1))\n",
    "        sim.columns = dat.variables\n",
    "        gs.pixelplt(sim, var=var, title='Realization {}'.format(real+1),\n",
    "                    pointdata=dat, cbar_label='m', ax=ax)\n",
    "\n",
    "    # Label the figure\n",
    "    fig.suptitle(var, **{'weight':'bold'})"
   ]
  },
  {
   "cell_type": "markdown",
   "metadata": {},
   "source": [
    "## 6. Simulation Checking\n",
    "\n",
    "Check that the realizations reproduce the histogram and variogram of the data.\n",
    "\n",
    "### Histogram reproduction\n",
    "Use of a '*' wildcard leads the histpltsim function to assume 1,...,nreal files are present."
   ]
  },
  {
   "cell_type": "code",
   "execution_count": 22,
   "metadata": {
    "ExecuteTime": {
     "end_time": "2019-04-29T20:42:38.439708Z",
     "start_time": "2019-04-29T20:42:37.764831Z"
    }
   },
   "outputs": [
    {
     "ename": "AttributeError",
     "evalue": "module 'pygeostat' has no attribute 'histpltsim'",
     "output_type": "error",
     "traceback": [
      "\u001b[1;31m---------------------------------------------------------------------------\u001b[0m",
      "\u001b[1;31mAttributeError\u001b[0m                            Traceback (most recent call last)",
      "Cell \u001b[1;32mIn[22], line 3\u001b[0m\n\u001b[0;32m      1\u001b[0m fig, axes \u001b[38;5;241m=\u001b[39m plt\u001b[38;5;241m.\u001b[39msubplots(\u001b[38;5;241m1\u001b[39m, \u001b[38;5;241m2\u001b[39m, figsize\u001b[38;5;241m=\u001b[39m(\u001b[38;5;241m10\u001b[39m, \u001b[38;5;241m5\u001b[39m))\n\u001b[0;32m      2\u001b[0m \u001b[38;5;28;01mfor\u001b[39;00m i, (var, ax) \u001b[38;5;129;01min\u001b[39;00m \u001b[38;5;28menumerate\u001b[39m(\u001b[38;5;28mzip\u001b[39m(dat\u001b[38;5;241m.\u001b[39mvariables, axes)):\n\u001b[1;32m----> 3\u001b[0m     gs\u001b[38;5;241m.\u001b[39mhistpltsim(backdir\u001b[38;5;241m+\u001b[39m\u001b[38;5;124m'\u001b[39m\u001b[38;5;124mreal*.gsb\u001b[39m\u001b[38;5;124m'\u001b[39m, dat, refvar\u001b[38;5;241m=\u001b[39mvar, \n\u001b[0;32m      4\u001b[0m                   refwt\u001b[38;5;241m=\u001b[39m\u001b[38;5;28;01mTrue\u001b[39;00m, refclr\u001b[38;5;241m=\u001b[39m\u001b[38;5;124m'\u001b[39m\u001b[38;5;124mr\u001b[39m\u001b[38;5;124m'\u001b[39m,\n\u001b[0;32m      5\u001b[0m                   simvar\u001b[38;5;241m=\u001b[39mi\u001b[38;5;241m+\u001b[39m\u001b[38;5;241m1\u001b[39m, sim_fltype\u001b[38;5;241m=\u001b[39m\u001b[38;5;124m'\u001b[39m\u001b[38;5;124mgsb\u001b[39m\u001b[38;5;124m'\u001b[39m, title\u001b[38;5;241m=\u001b[39mvar, ax\u001b[38;5;241m=\u001b[39max)\n",
      "\u001b[1;31mAttributeError\u001b[0m: module 'pygeostat' has no attribute 'histpltsim'"
     ]
    }
   ],
   "source": [
    "fig, axes = plt.subplots(1, 2, figsize=(10, 5))\n",
    "for i, (var, ax) in enumerate(zip(dat.variables, axes)):\n",
    "    gs.histpltsim(backdir+'real*.gsb', dat, refvar=var, \n",
    "                  refwt=True, refclr='r',\n",
    "                  simvar=i+1, sim_fltype='gsb', title=var, ax=ax)"
   ]
  },
  {
   "cell_type": "markdown",
   "metadata": {},
   "source": [
    "### Variogram reproduction\n",
    "\n",
    "The variogram of the data in original units must be calculated first, since the normal score variogram was previously calculated."
   ]
  },
  {
   "cell_type": "code",
   "execution_count": 23,
   "metadata": {
    "ExecuteTime": {
     "end_time": "2019-04-29T20:42:38.564620Z",
     "start_time": "2019-04-29T20:42:38.440692Z"
    }
   },
   "outputs": [
    {
     "ename": "NameError",
     "evalue": "name 'dat_ns' is not defined",
     "output_type": "error",
     "traceback": [
      "\u001b[1;31m---------------------------------------------------------------------------\u001b[0m",
      "\u001b[1;31mNameError\u001b[0m                                 Traceback (most recent call last)",
      "Cell \u001b[1;32mIn[23], line 3\u001b[0m\n\u001b[0;32m      1\u001b[0m \u001b[38;5;66;03m# Calculate the experimental data variograms\u001b[39;00m\n\u001b[0;32m      2\u001b[0m vargs \u001b[38;5;241m=\u001b[39m []\n\u001b[1;32m----> 3\u001b[0m \u001b[38;5;28;01mfor\u001b[39;00m var, ax \u001b[38;5;129;01min\u001b[39;00m \u001b[38;5;28mzip\u001b[39m(dat_ns\u001b[38;5;241m.\u001b[39mvariables, axes):\n\u001b[0;32m      4\u001b[0m     varg \u001b[38;5;241m=\u001b[39m gs\u001b[38;5;241m.\u001b[39mVariogram(dat_ns, var, ndim\u001b[38;5;241m=\u001b[39m\u001b[38;5;241m2\u001b[39m, ndir\u001b[38;5;241m=\u001b[39m\u001b[38;5;241m1\u001b[39m, omnihz\u001b[38;5;241m=\u001b[39m\u001b[38;5;28;01mTrue\u001b[39;00m, \n\u001b[0;32m      5\u001b[0m                         mute\u001b[38;5;241m=\u001b[39m\u001b[38;5;28;01mTrue\u001b[39;00m)\n\u001b[0;32m      6\u001b[0m     varg\u001b[38;5;241m.\u001b[39mupdate_calcpars(nlags\u001b[38;5;241m=\u001b[39m\u001b[38;5;241m10\u001b[39m, lagdist\u001b[38;5;241m=\u001b[39m\u001b[38;5;241m30.0\u001b[39m, lagtol\u001b[38;5;241m=\u001b[39m\u001b[38;5;241m20.0\u001b[39m, azm\u001b[38;5;241m=\u001b[39m\u001b[38;5;241m0\u001b[39m, \n\u001b[0;32m      7\u001b[0m                          azmtol\u001b[38;5;241m=\u001b[39m\u001b[38;5;241m90\u001b[39m, bandhorz\u001b[38;5;241m=\u001b[39m\u001b[38;5;241m10000\u001b[39m, variostd\u001b[38;5;241m=\u001b[39m\u001b[38;5;28;01mTrue\u001b[39;00m)\n",
      "\u001b[1;31mNameError\u001b[0m: name 'dat_ns' is not defined"
     ]
    }
   ],
   "source": [
    "# Calculate the experimental data variograms\n",
    "vargs = []\n",
    "for var, ax in zip(dat_ns.variables, axes):\n",
    "    varg = gs.Variogram(dat_ns, var, ndim=2, ndir=1, omnihz=True, \n",
    "                        mute=True)\n",
    "    varg.update_calcpars(nlags=10, lagdist=30.0, lagtol=20.0, azm=0, \n",
    "                         azmtol=90, bandhorz=10000, variostd=True)\n",
    "    varg.varcalc()    \n",
    "    vargs.append(varg)"
   ]
  },
  {
   "cell_type": "code",
   "execution_count": 24,
   "metadata": {
    "ExecuteTime": {
     "end_time": "2019-04-29T20:42:51.527454Z",
     "start_time": "2019-04-29T20:42:38.565623Z"
    }
   },
   "outputs": [],
   "source": [
    "# Calculate the variograms of the realizations\n",
    "for i, varg in enumerate(vargs):\n",
    "    varg.update_simpars(datafl=backdir+'real*.gsb', nvar=1, \n",
    "                        varcols=i+1)\n",
    "    varg.varsim(maxlags=50, vargrng=500, nprocess=4)"
   ]
  },
  {
   "cell_type": "code",
   "execution_count": 25,
   "metadata": {
    "ExecuteTime": {
     "end_time": "2019-04-29T20:42:51.617567Z",
     "start_time": "2019-04-29T20:42:51.527454Z"
    }
   },
   "outputs": [
    {
     "ename": "AttributeError",
     "evalue": "module 'pygeostat' has no attribute 'gsParams'",
     "output_type": "error",
     "traceback": [
      "\u001b[1;31m---------------------------------------------------------------------------\u001b[0m",
      "\u001b[1;31mAttributeError\u001b[0m                            Traceback (most recent call last)",
      "Cell \u001b[1;32mIn[25], line 1\u001b[0m\n\u001b[1;32m----> 1\u001b[0m gs\u001b[38;5;241m.\u001b[39mgsParams[\u001b[38;5;124m'\u001b[39m\u001b[38;5;124mconfig.ignore_mpl_warnings\u001b[39m\u001b[38;5;124m'\u001b[39m] \u001b[38;5;241m=\u001b[39m \u001b[38;5;28;01mTrue\u001b[39;00m\n",
      "\u001b[1;31mAttributeError\u001b[0m: module 'pygeostat' has no attribute 'gsParams'"
     ]
    }
   ],
   "source": [
    "gs.gsParams['config.ignore_mpl_warnings'] = True"
   ]
  },
  {
   "cell_type": "code",
   "execution_count": 26,
   "metadata": {
    "ExecuteTime": {
     "end_time": "2019-04-29T20:42:52.002844Z",
     "start_time": "2019-04-29T20:42:51.618567Z"
    },
    "code_folding": []
   },
   "outputs": [],
   "source": [
    "# Plot the variograms\n",
    "fig, axes = plt.subplots(1, 2, figsize=(10, 4))\n",
    "for var, varg, ax in zip(dat.variables, vargs, axes):\n",
    "    fig = varg.plot(sim=True, titles=var, figsize=(8, 3), axes=ax)\n",
    "fig.tight_layout()"
   ]
  },
  {
   "cell_type": "markdown",
   "metadata": {},
   "source": [
    "## 7. Construct the Base Surface Realizations\n",
    "Subtract the thickness from the top elevation, providing the base elevation realizations. Output all values within a single directory."
   ]
  },
  {
   "cell_type": "code",
   "execution_count": 27,
   "metadata": {
    "ExecuteTime": {
     "end_time": "2019-04-29T20:42:52.164732Z",
     "start_time": "2019-04-29T20:42:52.002844Z"
    }
   },
   "outputs": [
    {
     "ename": "NameError",
     "evalue": "name 'nreal' is not defined",
     "output_type": "error",
     "traceback": [
      "\u001b[1;31m---------------------------------------------------------------------------\u001b[0m",
      "\u001b[1;31mNameError\u001b[0m                                 Traceback (most recent call last)",
      "Cell \u001b[1;32mIn[27], line 3\u001b[0m\n\u001b[0;32m      1\u001b[0m surfdir\u001b[38;5;241m=\u001b[39m\u001b[38;5;124m'\u001b[39m\u001b[38;5;124mSurfaces/\u001b[39m\u001b[38;5;124m'\u001b[39m\n\u001b[0;32m      2\u001b[0m gs\u001b[38;5;241m.\u001b[39mmkdir(surfdir)\n\u001b[1;32m----> 3\u001b[0m \u001b[38;5;28;01mfor\u001b[39;00m real \u001b[38;5;129;01min\u001b[39;00m \u001b[38;5;28mrange\u001b[39m(nreal):\n\u001b[0;32m      4\u001b[0m     sim \u001b[38;5;241m=\u001b[39m gs\u001b[38;5;241m.\u001b[39mDataFile(backdir\u001b[38;5;241m+\u001b[39m\u001b[38;5;124m'\u001b[39m\u001b[38;5;124mreal\u001b[39m\u001b[38;5;132;01m{}\u001b[39;00m\u001b[38;5;124m.gsb\u001b[39m\u001b[38;5;124m'\u001b[39m\u001b[38;5;241m.\u001b[39mformat(real\u001b[38;5;241m+\u001b[39m\u001b[38;5;241m1\u001b[39m))\n\u001b[0;32m      5\u001b[0m     sim\u001b[38;5;241m.\u001b[39mcolumns\u001b[38;5;241m=\u001b[39m[\u001b[38;5;124m'\u001b[39m\u001b[38;5;124mTop Elevation\u001b[39m\u001b[38;5;124m'\u001b[39m, \u001b[38;5;124m'\u001b[39m\u001b[38;5;124mThickness\u001b[39m\u001b[38;5;124m'\u001b[39m]\n",
      "\u001b[1;31mNameError\u001b[0m: name 'nreal' is not defined"
     ]
    }
   ],
   "source": [
    "surfdir='Surfaces/'\n",
    "gs.mkdir(surfdir)\n",
    "for real in range(nreal):\n",
    "    sim = gs.DataFile(backdir+'real{}.gsb'.format(real+1))\n",
    "    sim.columns=['Top Elevation', 'Thickness']\n",
    "    sim['Base Elevation'] = sim['Top Elevation'] - sim['Thickness']\n",
    "    sim.writefile(surfdir+'real{}.gsb'.format(real+1))"
   ]
  },
  {
   "cell_type": "code",
   "execution_count": 28,
   "metadata": {
    "ExecuteTime": {
     "end_time": "2019-04-29T20:42:52.252576Z",
     "start_time": "2019-04-29T20:42:52.164732Z"
    }
   },
   "outputs": [],
   "source": [
    "import matplotlib as mpl"
   ]
  },
  {
   "cell_type": "code",
   "execution_count": 29,
   "metadata": {
    "ExecuteTime": {
     "end_time": "2019-04-29T20:42:52.342481Z",
     "start_time": "2019-04-29T20:42:52.252576Z"
    }
   },
   "outputs": [
    {
     "data": {
      "text/plain": [
       "'3.10.0'"
      ]
     },
     "execution_count": 29,
     "metadata": {},
     "output_type": "execute_result"
    }
   ],
   "source": [
    "mpl.__version__"
   ]
  },
  {
   "cell_type": "code",
   "execution_count": 30,
   "metadata": {
    "ExecuteTime": {
     "end_time": "2019-04-29T20:42:53.327239Z",
     "start_time": "2019-04-29T20:42:52.343488Z"
    }
   },
   "outputs": [
    {
     "ename": "FileNotFoundError",
     "evalue": "Surfaces/real1.gsb does not exist!",
     "output_type": "error",
     "traceback": [
      "\u001b[1;31m---------------------------------------------------------------------------\u001b[0m",
      "\u001b[1;31mFileNotFoundError\u001b[0m                         Traceback (most recent call last)",
      "File \u001b[1;32m~\\anaconda3\\Lib\\site-packages\\pygeostat\\data\\iotools.py:111\u001b[0m, in \u001b[0;36m_test_file_open\u001b[1;34m(filename)\u001b[0m\n\u001b[0;32m    110\u001b[0m \u001b[38;5;28;01mtry\u001b[39;00m:\n\u001b[1;32m--> 111\u001b[0m     \u001b[38;5;28;01mwith\u001b[39;00m \u001b[38;5;28mopen\u001b[39m(filename, \u001b[38;5;124m'\u001b[39m\u001b[38;5;124mr\u001b[39m\u001b[38;5;124m'\u001b[39m):\n\u001b[0;32m    112\u001b[0m         \u001b[38;5;28;01mpass\u001b[39;00m\n",
      "\u001b[1;31mFileNotFoundError\u001b[0m: [Errno 2] No such file or directory: 'Surfaces/real1.gsb'",
      "\nDuring handling of the above exception, another exception occurred:\n",
      "\u001b[1;31mFileNotFoundError\u001b[0m                         Traceback (most recent call last)",
      "Cell \u001b[1;32mIn[30], line 4\u001b[0m\n\u001b[0;32m      2\u001b[0m fig, axes \u001b[38;5;241m=\u001b[39m gs\u001b[38;5;241m.\u001b[39msubplots(\u001b[38;5;241m2\u001b[39m, \u001b[38;5;241m2\u001b[39m, figsize\u001b[38;5;241m=\u001b[39m(\u001b[38;5;241m10\u001b[39m, \u001b[38;5;241m8\u001b[39m), cbar_mode\u001b[38;5;241m=\u001b[39m\u001b[38;5;124m'\u001b[39m\u001b[38;5;124msingle\u001b[39m\u001b[38;5;124m'\u001b[39m)\n\u001b[0;32m      3\u001b[0m \u001b[38;5;28;01mfor\u001b[39;00m real, ax \u001b[38;5;129;01min\u001b[39;00m \u001b[38;5;28menumerate\u001b[39m(axes):\n\u001b[1;32m----> 4\u001b[0m     sim \u001b[38;5;241m=\u001b[39m gs\u001b[38;5;241m.\u001b[39mDataFile(surfdir\u001b[38;5;241m+\u001b[39m\u001b[38;5;124m'\u001b[39m\u001b[38;5;124mreal\u001b[39m\u001b[38;5;132;01m{}\u001b[39;00m\u001b[38;5;124m.gsb\u001b[39m\u001b[38;5;124m'\u001b[39m\u001b[38;5;241m.\u001b[39mformat(real\u001b[38;5;241m+\u001b[39m\u001b[38;5;241m1\u001b[39m))\n\u001b[0;32m      5\u001b[0m     gs\u001b[38;5;241m.\u001b[39mpixelplt(sim, var\u001b[38;5;241m=\u001b[39mvar, title\u001b[38;5;241m=\u001b[39m\u001b[38;5;124m'\u001b[39m\u001b[38;5;124mRealization \u001b[39m\u001b[38;5;132;01m{}\u001b[39;00m\u001b[38;5;124m'\u001b[39m\u001b[38;5;241m.\u001b[39mformat(real\u001b[38;5;241m+\u001b[39m\u001b[38;5;241m1\u001b[39m),\n\u001b[0;32m      6\u001b[0m                 pointdata\u001b[38;5;241m=\u001b[39mdat, cbar_label\u001b[38;5;241m=\u001b[39m\u001b[38;5;124m'\u001b[39m\u001b[38;5;124mm\u001b[39m\u001b[38;5;124m'\u001b[39m, ax\u001b[38;5;241m=\u001b[39max)\n\u001b[0;32m      7\u001b[0m fig\u001b[38;5;241m.\u001b[39msuptitle(var, \u001b[38;5;241m*\u001b[39m\u001b[38;5;241m*\u001b[39m{\u001b[38;5;124m'\u001b[39m\u001b[38;5;124mweight\u001b[39m\u001b[38;5;124m'\u001b[39m:\u001b[38;5;124m'\u001b[39m\u001b[38;5;124mbold\u001b[39m\u001b[38;5;124m'\u001b[39m})\n",
      "File \u001b[1;32m~\\anaconda3\\Lib\\site-packages\\pygeostat\\data\\data.py:205\u001b[0m, in \u001b[0;36mDataFile.__init__\u001b[1;34m(self, flname, readfl, fltype, dftype, data, columns, null, title, griddef, dh, x, y, z, ifrom, ito, weights, cat, catdict, variables, notvariables, delimiter, headeronly, h5path, h5datasets, nreals, tmin)\u001b[0m\n\u001b[0;32m    203\u001b[0m \t\t\u001b[38;5;28mself\u001b[39m\u001b[38;5;241m.\u001b[39mstore \u001b[38;5;241m=\u001b[39m H5Store(flname)\n\u001b[0;32m    204\u001b[0m \t\u001b[38;5;66;03m# read the file and import data and/or header\u001b[39;00m\n\u001b[1;32m--> 205\u001b[0m \t\u001b[38;5;28mself\u001b[39m\u001b[38;5;241m.\u001b[39mdata \u001b[38;5;241m=\u001b[39m read_file(\u001b[38;5;28mself\u001b[39m\u001b[38;5;241m.\u001b[39mflname, fltype\u001b[38;5;241m=\u001b[39mfltype, headeronly\u001b[38;5;241m=\u001b[39mheaderonly,\n\u001b[0;32m    206\u001b[0m \t\t\t\t\t\t delimiter\u001b[38;5;241m=\u001b[39mdelimiter, h5path\u001b[38;5;241m=\u001b[39mh5path, h5datasets\u001b[38;5;241m=\u001b[39mh5datasets,\n\u001b[0;32m    207\u001b[0m \t\t\t\t\t\t columns\u001b[38;5;241m=\u001b[39mcolumns, griddef\u001b[38;5;241m=\u001b[39m\u001b[38;5;28mself\u001b[39m\u001b[38;5;241m.\u001b[39mgriddef, ireal\u001b[38;5;241m=\u001b[39mnreals, tmin\u001b[38;5;241m=\u001b[39mtmin)\n\u001b[0;32m    208\u001b[0m \u001b[38;5;66;03m# Try and coerce data into a pandas dataframe if it is not already\u001b[39;00m\n\u001b[0;32m    209\u001b[0m \u001b[38;5;28;01mif\u001b[39;00m (data \u001b[38;5;129;01mis\u001b[39;00m \u001b[38;5;129;01mnot\u001b[39;00m \u001b[38;5;28;01mNone\u001b[39;00m) \u001b[38;5;129;01mand\u001b[39;00m (\u001b[38;5;129;01mnot\u001b[39;00m \u001b[38;5;28misinstance\u001b[39m(data, pd\u001b[38;5;241m.\u001b[39mDataFrame)):\n",
      "File \u001b[1;32m~\\anaconda3\\Lib\\site-packages\\pygeostat\\data\\iotools.py:98\u001b[0m, in \u001b[0;36mread_file\u001b[1;34m(flname, fltype, headeronly, delimiter, h5path, h5datasets, columns, ireal, griddef, tmin)\u001b[0m\n\u001b[0;32m     96\u001b[0m         data \u001b[38;5;241m=\u001b[39m read_h5(flname\u001b[38;5;241m=\u001b[39mflname, h5path\u001b[38;5;241m=\u001b[39mh5path, datasets\u001b[38;5;241m=\u001b[39mh5datasets)\n\u001b[0;32m     97\u001b[0m \u001b[38;5;28;01melif\u001b[39;00m fltype \u001b[38;5;241m==\u001b[39m \u001b[38;5;124m'\u001b[39m\u001b[38;5;124mgsb\u001b[39m\u001b[38;5;124m'\u001b[39m:\n\u001b[1;32m---> 98\u001b[0m     data \u001b[38;5;241m=\u001b[39m read_gsb(flname\u001b[38;5;241m=\u001b[39mflname, ireal\u001b[38;5;241m=\u001b[39mireal, tmin\u001b[38;5;241m=\u001b[39mtmin)\n\u001b[0;32m     99\u001b[0m \u001b[38;5;28;01melse\u001b[39;00m:\n\u001b[0;32m    100\u001b[0m     \u001b[38;5;28mprint\u001b[39m(\u001b[38;5;124m'\u001b[39m\u001b[38;5;124mFile type unsupported! Try \u001b[39m\u001b[38;5;124m\"\u001b[39m\u001b[38;5;124mgslib\u001b[39m\u001b[38;5;124m\"\u001b[39m\u001b[38;5;124m, \u001b[39m\u001b[38;5;124m\"\u001b[39m\u001b[38;5;124mcsv\u001b[39m\u001b[38;5;124m\"\u001b[39m\u001b[38;5;124m or \u001b[39m\u001b[38;5;124m\"\u001b[39m\u001b[38;5;124mhdf5\u001b[39m\u001b[38;5;124m\"\u001b[39m\u001b[38;5;124m'\u001b[39m)\n",
      "File \u001b[1;32m~\\anaconda3\\Lib\\site-packages\\pygeostat\\data\\iotools.py:290\u001b[0m, in \u001b[0;36mread_gsb\u001b[1;34m(flname, ireal, tmin, null)\u001b[0m\n\u001b[0;32m    288\u001b[0m pygsb \u001b[38;5;241m=\u001b[39m compile_pygsb()\n\u001b[0;32m    289\u001b[0m \u001b[38;5;66;03m# Can the file be opened?\u001b[39;00m\n\u001b[1;32m--> 290\u001b[0m _test_file_open(flname)\n\u001b[0;32m    292\u001b[0m \u001b[38;5;28;01mif\u001b[39;00m \u001b[38;5;129;01mnot\u001b[39;00m isbinary(flname):\n\u001b[0;32m    293\u001b[0m     \u001b[38;5;28;01mraise\u001b[39;00m \u001b[38;5;167;01mValueError\u001b[39;00m(\u001b[38;5;124m'\u001b[39m\u001b[38;5;124mThe file \u001b[39m\u001b[38;5;132;01m%s\u001b[39;00m\u001b[38;5;124m appears to be non-binary formatted \u001b[39m\u001b[38;5;124m'\u001b[39m \u001b[38;5;241m%\u001b[39m flname)\n",
      "File \u001b[1;32m~\\anaconda3\\Lib\\site-packages\\pygeostat\\data\\iotools.py:114\u001b[0m, in \u001b[0;36m_test_file_open\u001b[1;34m(filename)\u001b[0m\n\u001b[0;32m    112\u001b[0m         \u001b[38;5;28;01mpass\u001b[39;00m\n\u001b[0;32m    113\u001b[0m \u001b[38;5;28;01mexcept\u001b[39;00m \u001b[38;5;167;01mFileNotFoundError\u001b[39;00m:\n\u001b[1;32m--> 114\u001b[0m     \u001b[38;5;28;01mraise\u001b[39;00m \u001b[38;5;167;01mFileNotFoundError\u001b[39;00m(\u001b[38;5;124m'\u001b[39m\u001b[38;5;132;01m{}\u001b[39;00m\u001b[38;5;124m does not exist!\u001b[39m\u001b[38;5;124m'\u001b[39m\u001b[38;5;241m.\u001b[39mformat(filename))\n\u001b[0;32m    115\u001b[0m \u001b[38;5;28;01mexcept\u001b[39;00m \u001b[38;5;167;01mIOError\u001b[39;00m:\n\u001b[0;32m    116\u001b[0m     \u001b[38;5;28;01mraise\u001b[39;00m \u001b[38;5;167;01mIOError\u001b[39;00m(\u001b[38;5;124m'\u001b[39m\u001b[38;5;124mCould not open \u001b[39m\u001b[38;5;132;01m{}\u001b[39;00m\u001b[38;5;124m'\u001b[39m\u001b[38;5;241m.\u001b[39mformat(filename))\n",
      "\u001b[1;31mFileNotFoundError\u001b[0m: Surfaces/real1.gsb does not exist!"
     ]
    }
   ],
   "source": [
    "var = 'Base Elevation'\n",
    "fig, axes = gs.subplots(2, 2, figsize=(10, 8), cbar_mode='single')\n",
    "for real, ax in enumerate(axes):\n",
    "    sim = gs.DataFile(surfdir+'real{}.gsb'.format(real+1))\n",
    "    gs.pixelplt(sim, var=var, title='Realization {}'.format(real+1),\n",
    "                pointdata=dat, cbar_label='m', ax=ax)\n",
    "fig.suptitle(var, **{'weight':'bold'})"
   ]
  },
  {
   "cell_type": "markdown",
   "metadata": {},
   "source": [
    "### VTK visualization of the top and base surfaces\n",
    "\n",
    "Output coordinates will be in single precision 'float32' following the gsParams setting below (may be problematic with large utms). This is used here to conserve output file size.\n",
    "\n",
    "When the DataFile is initialized, it is registered as a structured grid (dftype='sgrid') with specified z coordinates. \n",
    "\n",
    "Use of a vtk extension in writefile leads to VTK output, where x and y coordinates are assumed to follow the regular grid, whereas z follows irregular coordinates. Note that at least one coordinate must be irregular for sgrid to register as valid."
   ]
  },
  {
   "cell_type": "code",
   "execution_count": 31,
   "metadata": {
    "ExecuteTime": {
     "end_time": "2019-04-29T20:42:53.523666Z",
     "start_time": "2019-04-29T20:42:53.327239Z"
    }
   },
   "outputs": [
    {
     "ename": "AttributeError",
     "evalue": "module 'pygeostat' has no attribute 'gsParams'",
     "output_type": "error",
     "traceback": [
      "\u001b[1;31m---------------------------------------------------------------------------\u001b[0m",
      "\u001b[1;31mAttributeError\u001b[0m                            Traceback (most recent call last)",
      "Cell \u001b[1;32mIn[31], line 1\u001b[0m\n\u001b[1;32m----> 1\u001b[0m gs\u001b[38;5;241m.\u001b[39mgsParams[\u001b[38;5;124m'\u001b[39m\u001b[38;5;124mdata.write_vtk.cdtype\u001b[39m\u001b[38;5;124m'\u001b[39m] \u001b[38;5;241m=\u001b[39m \u001b[38;5;124m'\u001b[39m\u001b[38;5;124mfloat32\u001b[39m\u001b[38;5;124m'\u001b[39m\n\u001b[0;32m      2\u001b[0m \u001b[38;5;28;01mfor\u001b[39;00m var \u001b[38;5;129;01min\u001b[39;00m [\u001b[38;5;124m'\u001b[39m\u001b[38;5;124mBase Elevation\u001b[39m\u001b[38;5;124m'\u001b[39m, \u001b[38;5;124m'\u001b[39m\u001b[38;5;124mTop Elevation\u001b[39m\u001b[38;5;124m'\u001b[39m]:\n\u001b[0;32m      3\u001b[0m     sim \u001b[38;5;241m=\u001b[39m gs\u001b[38;5;241m.\u001b[39mDataFile(surfdir\u001b[38;5;241m+\u001b[39m\u001b[38;5;124m'\u001b[39m\u001b[38;5;124mreal1.gsb\u001b[39m\u001b[38;5;124m'\u001b[39m, z\u001b[38;5;241m=\u001b[39mvar, dftype\u001b[38;5;241m=\u001b[39m\u001b[38;5;124m'\u001b[39m\u001b[38;5;124msgrid\u001b[39m\u001b[38;5;124m'\u001b[39m)\n",
      "\u001b[1;31mAttributeError\u001b[0m: module 'pygeostat' has no attribute 'gsParams'"
     ]
    }
   ],
   "source": [
    "gs.gsParams['data.write_vtk.cdtype'] = 'float32'\n",
    "for var in ['Base Elevation', 'Top Elevation']:\n",
    "    sim = gs.DataFile(surfdir+'real1.gsb', z=var, dftype='sgrid')\n",
    "    sim.writefile('{}_real1.vtk'.format(var), variables=[var])"
   ]
  },
  {
   "cell_type": "markdown",
   "metadata": {},
   "source": [
    "## 8. Cleaning Directories and Files"
   ]
  },
  {
   "cell_type": "code",
   "execution_count": 32,
   "metadata": {
    "ExecuteTime": {
     "end_time": "2019-04-29T20:42:53.652287Z",
     "start_time": "2019-04-29T20:42:53.523666Z"
    }
   },
   "outputs": [],
   "source": [
    "gs.rmdir([outdir, surfdir])\n",
    "gs.rmfile('temp')"
   ]
  },
  {
   "cell_type": "code",
   "execution_count": null,
   "metadata": {},
   "outputs": [],
   "source": []
  }
 ],
 "metadata": {
  "kernelspec": {
   "display_name": "Python [conda env:base] *",
   "language": "python",
   "name": "conda-base-py"
  },
  "language_info": {
   "codemirror_mode": {
    "name": "ipython",
    "version": 3
   },
   "file_extension": ".py",
   "mimetype": "text/x-python",
   "name": "python",
   "nbconvert_exporter": "python",
   "pygments_lexer": "ipython3",
   "version": "3.13.5"
  },
  "toc": {
   "base_numbering": 1,
   "nav_menu": {},
   "number_sections": false,
   "sideBar": true,
   "skip_h1_title": false,
   "title_cell": "Table of Contents",
   "title_sidebar": "Contents",
   "toc_cell": false,
   "toc_position": {
    "height": "672px",
    "left": "0px",
    "right": "1324px",
    "top": "107px",
    "width": "212px"
   },
   "toc_section_display": "block",
   "toc_window_display": true
  },
  "varInspector": {
   "cols": {
    "lenName": 16,
    "lenType": 16,
    "lenVar": 40
   },
   "kernels_config": {
    "python": {
     "delete_cmd_postfix": "",
     "delete_cmd_prefix": "del ",
     "library": "var_list.py",
     "varRefreshCmd": "print(var_dic_list())"
    },
    "r": {
     "delete_cmd_postfix": ") ",
     "delete_cmd_prefix": "rm(",
     "library": "var_list.r",
     "varRefreshCmd": "cat(var_dic_list()) "
    }
   },
   "oldHeight": 383.4,
   "position": {
    "height": "40px",
    "left": "839px",
    "right": "20px",
    "top": "-2px",
    "width": "550px"
   },
   "types_to_exclude": [
    "module",
    "function",
    "builtin_function_or_method",
    "instance",
    "_Feature"
   ],
   "varInspector_section_display": "none",
   "window_display": true
  }
 },
 "nbformat": 4,
 "nbformat_minor": 4
}
